{
 "cells": [
  {
   "cell_type": "code",
   "execution_count": 122,
   "id": "c3de6e65",
   "metadata": {},
   "outputs": [],
   "source": [
    "import pandas as pd\n",
    "import numpy as np\n",
    "import matplotlib.pyplot as plt\n",
    "import seaborn as sns\n",
    "import warnings\n",
    "warnings.filterwarnings('ignore' )\n",
    "import scipy.stats as stat\n",
    "from sklearn.preprocessing import LabelEncoder\n",
    "from statsmodels.graphics.regressionplots import influence_plot\n",
    "import statsmodels.formula.api as smf\n",
    "import statsmodels.formula.api as sm"
   ]
  },
  {
   "cell_type": "code",
   "execution_count": 3,
   "id": "12b0cc51",
   "metadata": {},
   "outputs": [
    {
     "data": {
      "text/html": [
       "<div>\n",
       "<style scoped>\n",
       "    .dataframe tbody tr th:only-of-type {\n",
       "        vertical-align: middle;\n",
       "    }\n",
       "\n",
       "    .dataframe tbody tr th {\n",
       "        vertical-align: top;\n",
       "    }\n",
       "\n",
       "    .dataframe thead th {\n",
       "        text-align: right;\n",
       "    }\n",
       "</style>\n",
       "<table border=\"1\" class=\"dataframe\">\n",
       "  <thead>\n",
       "    <tr style=\"text-align: right;\">\n",
       "      <th></th>\n",
       "      <th>R&amp;D Spend</th>\n",
       "      <th>Administration</th>\n",
       "      <th>Marketing Spend</th>\n",
       "      <th>State</th>\n",
       "      <th>Profit</th>\n",
       "    </tr>\n",
       "  </thead>\n",
       "  <tbody>\n",
       "    <tr>\n",
       "      <th>0</th>\n",
       "      <td>165349.20</td>\n",
       "      <td>136897.80</td>\n",
       "      <td>471784.10</td>\n",
       "      <td>New York</td>\n",
       "      <td>192261.83</td>\n",
       "    </tr>\n",
       "    <tr>\n",
       "      <th>1</th>\n",
       "      <td>162597.70</td>\n",
       "      <td>151377.59</td>\n",
       "      <td>443898.53</td>\n",
       "      <td>California</td>\n",
       "      <td>191792.06</td>\n",
       "    </tr>\n",
       "    <tr>\n",
       "      <th>2</th>\n",
       "      <td>153441.51</td>\n",
       "      <td>101145.55</td>\n",
       "      <td>407934.54</td>\n",
       "      <td>Florida</td>\n",
       "      <td>191050.39</td>\n",
       "    </tr>\n",
       "    <tr>\n",
       "      <th>3</th>\n",
       "      <td>144372.41</td>\n",
       "      <td>118671.85</td>\n",
       "      <td>383199.62</td>\n",
       "      <td>New York</td>\n",
       "      <td>182901.99</td>\n",
       "    </tr>\n",
       "    <tr>\n",
       "      <th>4</th>\n",
       "      <td>142107.34</td>\n",
       "      <td>91391.77</td>\n",
       "      <td>366168.42</td>\n",
       "      <td>Florida</td>\n",
       "      <td>166187.94</td>\n",
       "    </tr>\n",
       "    <tr>\n",
       "      <th>5</th>\n",
       "      <td>131876.90</td>\n",
       "      <td>99814.71</td>\n",
       "      <td>362861.36</td>\n",
       "      <td>New York</td>\n",
       "      <td>156991.12</td>\n",
       "    </tr>\n",
       "    <tr>\n",
       "      <th>6</th>\n",
       "      <td>134615.46</td>\n",
       "      <td>147198.87</td>\n",
       "      <td>127716.82</td>\n",
       "      <td>California</td>\n",
       "      <td>156122.51</td>\n",
       "    </tr>\n",
       "    <tr>\n",
       "      <th>7</th>\n",
       "      <td>130298.13</td>\n",
       "      <td>145530.06</td>\n",
       "      <td>323876.68</td>\n",
       "      <td>Florida</td>\n",
       "      <td>155752.60</td>\n",
       "    </tr>\n",
       "    <tr>\n",
       "      <th>8</th>\n",
       "      <td>120542.52</td>\n",
       "      <td>148718.95</td>\n",
       "      <td>311613.29</td>\n",
       "      <td>New York</td>\n",
       "      <td>152211.77</td>\n",
       "    </tr>\n",
       "    <tr>\n",
       "      <th>9</th>\n",
       "      <td>123334.88</td>\n",
       "      <td>108679.17</td>\n",
       "      <td>304981.62</td>\n",
       "      <td>California</td>\n",
       "      <td>149759.96</td>\n",
       "    </tr>\n",
       "  </tbody>\n",
       "</table>\n",
       "</div>"
      ],
      "text/plain": [
       "   R&D Spend  Administration  Marketing Spend       State     Profit\n",
       "0  165349.20       136897.80        471784.10    New York  192261.83\n",
       "1  162597.70       151377.59        443898.53  California  191792.06\n",
       "2  153441.51       101145.55        407934.54     Florida  191050.39\n",
       "3  144372.41       118671.85        383199.62    New York  182901.99\n",
       "4  142107.34        91391.77        366168.42     Florida  166187.94\n",
       "5  131876.90        99814.71        362861.36    New York  156991.12\n",
       "6  134615.46       147198.87        127716.82  California  156122.51\n",
       "7  130298.13       145530.06        323876.68     Florida  155752.60\n",
       "8  120542.52       148718.95        311613.29    New York  152211.77\n",
       "9  123334.88       108679.17        304981.62  California  149759.96"
      ]
     },
     "execution_count": 3,
     "metadata": {},
     "output_type": "execute_result"
    }
   ],
   "source": [
    "dataset=pd.read_csv(\"50_Startups.csv\")\n",
    "dataset.head(10)"
   ]
  },
  {
   "cell_type": "code",
   "execution_count": 5,
   "id": "afd60de5",
   "metadata": {},
   "outputs": [
    {
     "data": {
      "text/plain": [
       "(50, 5)"
      ]
     },
     "execution_count": 5,
     "metadata": {},
     "output_type": "execute_result"
    }
   ],
   "source": [
    "dataset.shape"
   ]
  },
  {
   "cell_type": "code",
   "execution_count": 4,
   "id": "8f24bf0b",
   "metadata": {},
   "outputs": [
    {
     "data": {
      "text/html": [
       "<div>\n",
       "<style scoped>\n",
       "    .dataframe tbody tr th:only-of-type {\n",
       "        vertical-align: middle;\n",
       "    }\n",
       "\n",
       "    .dataframe tbody tr th {\n",
       "        vertical-align: top;\n",
       "    }\n",
       "\n",
       "    .dataframe thead th {\n",
       "        text-align: right;\n",
       "    }\n",
       "</style>\n",
       "<table border=\"1\" class=\"dataframe\">\n",
       "  <thead>\n",
       "    <tr style=\"text-align: right;\">\n",
       "      <th></th>\n",
       "      <th>R&amp;D Spend</th>\n",
       "      <th>Administration</th>\n",
       "      <th>Marketing Spend</th>\n",
       "      <th>Profit</th>\n",
       "    </tr>\n",
       "  </thead>\n",
       "  <tbody>\n",
       "    <tr>\n",
       "      <th>count</th>\n",
       "      <td>50.000000</td>\n",
       "      <td>50.000000</td>\n",
       "      <td>50.000000</td>\n",
       "      <td>50.000000</td>\n",
       "    </tr>\n",
       "    <tr>\n",
       "      <th>mean</th>\n",
       "      <td>73721.615600</td>\n",
       "      <td>121344.639600</td>\n",
       "      <td>211025.097800</td>\n",
       "      <td>112012.639200</td>\n",
       "    </tr>\n",
       "    <tr>\n",
       "      <th>std</th>\n",
       "      <td>45902.256482</td>\n",
       "      <td>28017.802755</td>\n",
       "      <td>122290.310726</td>\n",
       "      <td>40306.180338</td>\n",
       "    </tr>\n",
       "    <tr>\n",
       "      <th>min</th>\n",
       "      <td>0.000000</td>\n",
       "      <td>51283.140000</td>\n",
       "      <td>0.000000</td>\n",
       "      <td>14681.400000</td>\n",
       "    </tr>\n",
       "    <tr>\n",
       "      <th>25%</th>\n",
       "      <td>39936.370000</td>\n",
       "      <td>103730.875000</td>\n",
       "      <td>129300.132500</td>\n",
       "      <td>90138.902500</td>\n",
       "    </tr>\n",
       "    <tr>\n",
       "      <th>50%</th>\n",
       "      <td>73051.080000</td>\n",
       "      <td>122699.795000</td>\n",
       "      <td>212716.240000</td>\n",
       "      <td>107978.190000</td>\n",
       "    </tr>\n",
       "    <tr>\n",
       "      <th>75%</th>\n",
       "      <td>101602.800000</td>\n",
       "      <td>144842.180000</td>\n",
       "      <td>299469.085000</td>\n",
       "      <td>139765.977500</td>\n",
       "    </tr>\n",
       "    <tr>\n",
       "      <th>max</th>\n",
       "      <td>165349.200000</td>\n",
       "      <td>182645.560000</td>\n",
       "      <td>471784.100000</td>\n",
       "      <td>192261.830000</td>\n",
       "    </tr>\n",
       "  </tbody>\n",
       "</table>\n",
       "</div>"
      ],
      "text/plain": [
       "           R&D Spend  Administration  Marketing Spend         Profit\n",
       "count      50.000000       50.000000        50.000000      50.000000\n",
       "mean    73721.615600   121344.639600    211025.097800  112012.639200\n",
       "std     45902.256482    28017.802755    122290.310726   40306.180338\n",
       "min         0.000000    51283.140000         0.000000   14681.400000\n",
       "25%     39936.370000   103730.875000    129300.132500   90138.902500\n",
       "50%     73051.080000   122699.795000    212716.240000  107978.190000\n",
       "75%    101602.800000   144842.180000    299469.085000  139765.977500\n",
       "max    165349.200000   182645.560000    471784.100000  192261.830000"
      ]
     },
     "execution_count": 4,
     "metadata": {},
     "output_type": "execute_result"
    }
   ],
   "source": [
    "dataset.describe()"
   ]
  },
  {
   "cell_type": "code",
   "execution_count": 6,
   "id": "0c642d08",
   "metadata": {},
   "outputs": [
    {
     "name": "stdout",
     "output_type": "stream",
     "text": [
      "<class 'pandas.core.frame.DataFrame'>\n",
      "RangeIndex: 50 entries, 0 to 49\n",
      "Data columns (total 5 columns):\n",
      " #   Column           Non-Null Count  Dtype  \n",
      "---  ------           --------------  -----  \n",
      " 0   R&D Spend        50 non-null     float64\n",
      " 1   Administration   50 non-null     float64\n",
      " 2   Marketing Spend  50 non-null     float64\n",
      " 3   State            50 non-null     object \n",
      " 4   Profit           50 non-null     float64\n",
      "dtypes: float64(4), object(1)\n",
      "memory usage: 1.8+ KB\n"
     ]
    }
   ],
   "source": [
    "dataset.info()"
   ]
  },
  {
   "cell_type": "code",
   "execution_count": 7,
   "id": "f502f292",
   "metadata": {},
   "outputs": [
    {
     "name": "stdout",
     "output_type": "stream",
     "text": [
      "There are 0 duplicate values in the dateset.\n"
     ]
    }
   ],
   "source": [
    "print('There are',dataset.duplicated().sum(),'duplicate values in the dateset.')"
   ]
  },
  {
   "cell_type": "code",
   "execution_count": 9,
   "id": "818e60ee",
   "metadata": {},
   "outputs": [
    {
     "data": {
      "text/plain": [
       "R&D Spend          0\n",
       "Administration     0\n",
       "Marketing Spend    0\n",
       "State              0\n",
       "Profit             0\n",
       "dtype: int64"
      ]
     },
     "execution_count": 9,
     "metadata": {},
     "output_type": "execute_result"
    }
   ],
   "source": [
    "dataset.isnull().sum()"
   ]
  },
  {
   "cell_type": "code",
   "execution_count": 12,
   "id": "8fe2ff73",
   "metadata": {},
   "outputs": [
    {
     "data": {
      "text/html": [
       "<div>\n",
       "<style scoped>\n",
       "    .dataframe tbody tr th:only-of-type {\n",
       "        vertical-align: middle;\n",
       "    }\n",
       "\n",
       "    .dataframe tbody tr th {\n",
       "        vertical-align: top;\n",
       "    }\n",
       "\n",
       "    .dataframe thead th {\n",
       "        text-align: right;\n",
       "    }\n",
       "</style>\n",
       "<table border=\"1\" class=\"dataframe\">\n",
       "  <thead>\n",
       "    <tr style=\"text-align: right;\">\n",
       "      <th></th>\n",
       "      <th>R&amp;D Spend</th>\n",
       "      <th>Administration</th>\n",
       "      <th>Marketing Spend</th>\n",
       "      <th>Profit</th>\n",
       "    </tr>\n",
       "  </thead>\n",
       "  <tbody>\n",
       "    <tr>\n",
       "      <th>R&amp;D Spend</th>\n",
       "      <td>1.000000</td>\n",
       "      <td>0.241955</td>\n",
       "      <td>0.724248</td>\n",
       "      <td>0.972900</td>\n",
       "    </tr>\n",
       "    <tr>\n",
       "      <th>Administration</th>\n",
       "      <td>0.241955</td>\n",
       "      <td>1.000000</td>\n",
       "      <td>-0.032154</td>\n",
       "      <td>0.200717</td>\n",
       "    </tr>\n",
       "    <tr>\n",
       "      <th>Marketing Spend</th>\n",
       "      <td>0.724248</td>\n",
       "      <td>-0.032154</td>\n",
       "      <td>1.000000</td>\n",
       "      <td>0.747766</td>\n",
       "    </tr>\n",
       "    <tr>\n",
       "      <th>Profit</th>\n",
       "      <td>0.972900</td>\n",
       "      <td>0.200717</td>\n",
       "      <td>0.747766</td>\n",
       "      <td>1.000000</td>\n",
       "    </tr>\n",
       "  </tbody>\n",
       "</table>\n",
       "</div>"
      ],
      "text/plain": [
       "                 R&D Spend  Administration  Marketing Spend    Profit\n",
       "R&D Spend         1.000000        0.241955         0.724248  0.972900\n",
       "Administration    0.241955        1.000000        -0.032154  0.200717\n",
       "Marketing Spend   0.724248       -0.032154         1.000000  0.747766\n",
       "Profit            0.972900        0.200717         0.747766  1.000000"
      ]
     },
     "execution_count": 12,
     "metadata": {},
     "output_type": "execute_result"
    }
   ],
   "source": [
    "c=dataset.corr()\n",
    "c"
   ]
  },
  {
   "cell_type": "markdown",
   "id": "7d08478a",
   "metadata": {},
   "source": [
    "Correlation matrix"
   ]
  },
  {
   "cell_type": "code",
   "execution_count": 13,
   "id": "d0557400",
   "metadata": {},
   "outputs": [
    {
     "data": {
      "image/png": "[encoded data removed]",
      "text/plain": [
       "<Figure size 432x288 with 2 Axes>"
      ]
     },
     "metadata": {
      "needs_background": "light"
     },
     "output_type": "display_data"
    }
   ],
   "source": [
    "sns.heatmap(c,annot=True,cmap='Blues')\n",
    "plt.show()"
   ]
  },
  {
   "cell_type": "code",
   "execution_count": 14,
   "id": "6871f278",
   "metadata": {},
   "outputs": [
    {
     "data": {
      "image/png": "[encoded data removed]",
      "text/plain": [
       "<Figure size 576x576 with 1 Axes>"
      ]
     },
     "metadata": {
      "needs_background": "light"
     },
     "output_type": "display_data"
    }
   ],
   "source": [
    "outliers = ['Profit']\n",
    "plt.rcParams['figure.figsize'] = [8,8]\n",
    "sns.boxplot(data=dataset[outliers], orient=\"v\", palette=\"Set2\" , width=0.7) # orient = \"v\" : vertical boxplot , \n",
    "                                                                            # orient = \"h\" : hotrizontal boxplot\n",
    "plt.title(\"Outliers Variable Distribution\")\n",
    "plt.ylabel(\"Profit Range\")\n",
    "plt.xlabel(\"Continuous Variable\")\n",
    "\n",
    "plt.show()"
   ]
  },
  {
   "cell_type": "markdown",
   "id": "6bdd7d8d",
   "metadata": {},
   "source": [
    "While looking at the boxplot we can see the outliers in the profit(target variable), but the amount of data is not much (just 50 entries) so it won’t create much negative impact."
   ]
  },
  {
   "cell_type": "markdown",
   "id": "03ae281f",
   "metadata": {},
   "source": [
    "State-wise outlier detection"
   ]
  },
  {
   "cell_type": "code",
   "execution_count": 15,
   "id": "22540145",
   "metadata": {},
   "outputs": [
    {
     "data": {
      "image/png": "[encoded data removed]",
      "text/plain": [
       "<Figure size 576x576 with 1 Axes>"
      ]
     },
     "metadata": {
      "needs_background": "light"
     },
     "output_type": "display_data"
    }
   ],
   "source": [
    "sns.boxplot(x = 'State', y = 'Profit', data = dataset)\n",
    "plt.show()"
   ]
  },
  {
   "cell_type": "markdown",
   "id": "0507d587",
   "metadata": {},
   "source": [
    "1. All outliers presented are in New York.\n",
    "2. The startups located in California we can see the maximum profits and maximum loss."
   ]
  },
  {
   "cell_type": "markdown",
   "id": "c90ae367",
   "metadata": {},
   "source": [
    "Histogram on Profit"
   ]
  },
  {
   "cell_type": "code",
   "execution_count": 20,
   "id": "8b93e4a0",
   "metadata": {},
   "outputs": [
    {
     "data": {
      "image/png": "[encoded data removed]",
      "text/plain": [
       "<Figure size 576x576 with 1 Axes>"
      ]
     },
     "metadata": {
      "needs_background": "light"
     },
     "output_type": "display_data"
    }
   ],
   "source": [
    "sns.distplot(dataset['Profit'],bins=5,kde=True)\n",
    "plt.show()"
   ]
  },
  {
   "cell_type": "code",
   "execution_count": 17,
   "id": "4efbc63b",
   "metadata": {},
   "outputs": [
    {
     "data": {
      "image/png": "[encoded data removed]",
      "text/plain": [
       "<Figure size 720x720 with 20 Axes>"
      ]
     },
     "metadata": {
      "needs_background": "light"
     },
     "output_type": "display_data"
    }
   ],
   "source": [
    "sns.pairplot(dataset)\n",
    "plt.show()"
   ]
  },
  {
   "cell_type": "markdown",
   "id": "fcfe1333",
   "metadata": {},
   "source": [
    "1. As we can see in the pair pot, Research and development are directly proportional to the investment that we can do.\n",
    "2. The marketing spend seems to be directly proportional (though a little bit outliers are there) with the profit.\n",
    "3. There is no relationship between the second column and profit i.e. our target column."
   ]
  },
  {
   "cell_type": "markdown",
   "id": "c5c7f627",
   "metadata": {},
   "source": [
    "Model Development"
   ]
  },
  {
   "cell_type": "code",
   "execution_count": 21,
   "id": "36358adb",
   "metadata": {},
   "outputs": [],
   "source": [
    "# spliting Dataset in Dependent & Independent Variables\n",
    "X = dataset.iloc[:, :-1].values\n",
    "y = dataset.iloc[:, 4].values"
   ]
  },
  {
   "cell_type": "markdown",
   "id": "1f76dcb7",
   "metadata": {},
   "source": [
    "Label Encoder\n"
   ]
  },
  {
   "cell_type": "code",
   "execution_count": 23,
   "id": "c82d6270",
   "metadata": {},
   "outputs": [
    {
     "data": {
      "text/html": [
       "<div>\n",
       "<style scoped>\n",
       "    .dataframe tbody tr th:only-of-type {\n",
       "        vertical-align: middle;\n",
       "    }\n",
       "\n",
       "    .dataframe tbody tr th {\n",
       "        vertical-align: top;\n",
       "    }\n",
       "\n",
       "    .dataframe thead th {\n",
       "        text-align: right;\n",
       "    }\n",
       "</style>\n",
       "<table border=\"1\" class=\"dataframe\">\n",
       "  <thead>\n",
       "    <tr style=\"text-align: right;\">\n",
       "      <th></th>\n",
       "      <th>0</th>\n",
       "      <th>1</th>\n",
       "      <th>2</th>\n",
       "      <th>3</th>\n",
       "    </tr>\n",
       "  </thead>\n",
       "  <tbody>\n",
       "    <tr>\n",
       "      <th>0</th>\n",
       "      <td>165349.2</td>\n",
       "      <td>136897.8</td>\n",
       "      <td>471784.1</td>\n",
       "      <td>2</td>\n",
       "    </tr>\n",
       "    <tr>\n",
       "      <th>1</th>\n",
       "      <td>162597.7</td>\n",
       "      <td>151377.59</td>\n",
       "      <td>443898.53</td>\n",
       "      <td>0</td>\n",
       "    </tr>\n",
       "    <tr>\n",
       "      <th>2</th>\n",
       "      <td>153441.51</td>\n",
       "      <td>101145.55</td>\n",
       "      <td>407934.54</td>\n",
       "      <td>1</td>\n",
       "    </tr>\n",
       "    <tr>\n",
       "      <th>3</th>\n",
       "      <td>144372.41</td>\n",
       "      <td>118671.85</td>\n",
       "      <td>383199.62</td>\n",
       "      <td>2</td>\n",
       "    </tr>\n",
       "    <tr>\n",
       "      <th>4</th>\n",
       "      <td>142107.34</td>\n",
       "      <td>91391.77</td>\n",
       "      <td>366168.42</td>\n",
       "      <td>1</td>\n",
       "    </tr>\n",
       "  </tbody>\n",
       "</table>\n",
       "</div>"
      ],
      "text/plain": [
       "           0          1          2  3\n",
       "0   165349.2   136897.8   471784.1  2\n",
       "1   162597.7  151377.59  443898.53  0\n",
       "2  153441.51  101145.55  407934.54  1\n",
       "3  144372.41  118671.85  383199.62  2\n",
       "4  142107.34   91391.77  366168.42  1"
      ]
     },
     "execution_count": 23,
     "metadata": {},
     "output_type": "execute_result"
    }
   ],
   "source": [
    "#Label Encoder: Encode labels with values between 0 and n_classes-1.\n",
    "\n",
    "labelencoder = LabelEncoder()\n",
    "X[:, 3] = labelencoder.fit_transform(X[:, 3])\n",
    "X1 = pd.DataFrame(X)\n",
    "X1.head()\n"
   ]
  },
  {
   "cell_type": "code",
   "execution_count": 54,
   "id": "cd25ca91",
   "metadata": {},
   "outputs": [
    {
     "data": {
      "text/html": [
       "<div>\n",
       "<style scoped>\n",
       "    .dataframe tbody tr th:only-of-type {\n",
       "        vertical-align: middle;\n",
       "    }\n",
       "\n",
       "    .dataframe tbody tr th {\n",
       "        vertical-align: top;\n",
       "    }\n",
       "\n",
       "    .dataframe thead th {\n",
       "        text-align: right;\n",
       "    }\n",
       "</style>\n",
       "<table border=\"1\" class=\"dataframe\">\n",
       "  <thead>\n",
       "    <tr style=\"text-align: right;\">\n",
       "      <th></th>\n",
       "      <th>RnD</th>\n",
       "      <th>Admin</th>\n",
       "      <th>Marketing</th>\n",
       "      <th>State</th>\n",
       "      <th>Profit</th>\n",
       "    </tr>\n",
       "  </thead>\n",
       "  <tbody>\n",
       "    <tr>\n",
       "      <th>0</th>\n",
       "      <td>165349.20</td>\n",
       "      <td>136897.80</td>\n",
       "      <td>471784.10</td>\n",
       "      <td>New York</td>\n",
       "      <td>192261.83</td>\n",
       "    </tr>\n",
       "    <tr>\n",
       "      <th>1</th>\n",
       "      <td>162597.70</td>\n",
       "      <td>151377.59</td>\n",
       "      <td>443898.53</td>\n",
       "      <td>California</td>\n",
       "      <td>191792.06</td>\n",
       "    </tr>\n",
       "    <tr>\n",
       "      <th>2</th>\n",
       "      <td>153441.51</td>\n",
       "      <td>101145.55</td>\n",
       "      <td>407934.54</td>\n",
       "      <td>Florida</td>\n",
       "      <td>191050.39</td>\n",
       "    </tr>\n",
       "    <tr>\n",
       "      <th>3</th>\n",
       "      <td>144372.41</td>\n",
       "      <td>118671.85</td>\n",
       "      <td>383199.62</td>\n",
       "      <td>New York</td>\n",
       "      <td>182901.99</td>\n",
       "    </tr>\n",
       "    <tr>\n",
       "      <th>4</th>\n",
       "      <td>142107.34</td>\n",
       "      <td>91391.77</td>\n",
       "      <td>366168.42</td>\n",
       "      <td>Florida</td>\n",
       "      <td>166187.94</td>\n",
       "    </tr>\n",
       "    <tr>\n",
       "      <th>5</th>\n",
       "      <td>131876.90</td>\n",
       "      <td>99814.71</td>\n",
       "      <td>362861.36</td>\n",
       "      <td>New York</td>\n",
       "      <td>156991.12</td>\n",
       "    </tr>\n",
       "    <tr>\n",
       "      <th>6</th>\n",
       "      <td>134615.46</td>\n",
       "      <td>147198.87</td>\n",
       "      <td>127716.82</td>\n",
       "      <td>California</td>\n",
       "      <td>156122.51</td>\n",
       "    </tr>\n",
       "    <tr>\n",
       "      <th>7</th>\n",
       "      <td>130298.13</td>\n",
       "      <td>145530.06</td>\n",
       "      <td>323876.68</td>\n",
       "      <td>Florida</td>\n",
       "      <td>155752.60</td>\n",
       "    </tr>\n",
       "    <tr>\n",
       "      <th>8</th>\n",
       "      <td>120542.52</td>\n",
       "      <td>148718.95</td>\n",
       "      <td>311613.29</td>\n",
       "      <td>New York</td>\n",
       "      <td>152211.77</td>\n",
       "    </tr>\n",
       "    <tr>\n",
       "      <th>9</th>\n",
       "      <td>123334.88</td>\n",
       "      <td>108679.17</td>\n",
       "      <td>304981.62</td>\n",
       "      <td>California</td>\n",
       "      <td>149759.96</td>\n",
       "    </tr>\n",
       "  </tbody>\n",
       "</table>\n",
       "</div>"
      ],
      "text/plain": [
       "         RnD      Admin  Marketing       State     Profit\n",
       "0  165349.20  136897.80  471784.10    New York  192261.83\n",
       "1  162597.70  151377.59  443898.53  California  191792.06\n",
       "2  153441.51  101145.55  407934.54     Florida  191050.39\n",
       "3  144372.41  118671.85  383199.62    New York  182901.99\n",
       "4  142107.34   91391.77  366168.42     Florida  166187.94\n",
       "5  131876.90   99814.71  362861.36    New York  156991.12\n",
       "6  134615.46  147198.87  127716.82  California  156122.51\n",
       "7  130298.13  145530.06  323876.68     Florida  155752.60\n",
       "8  120542.52  148718.95  311613.29    New York  152211.77\n",
       "9  123334.88  108679.17  304981.62  California  149759.96"
      ]
     },
     "execution_count": 54,
     "metadata": {},
     "output_type": "execute_result"
    }
   ],
   "source": [
    "dataset = dataset.rename({\"R&D Spend\":'RnD',\"Administration\":'Admin',\"Marketing Spend\":'Marketing'},axis = 1)\n",
    "dataset.head(10)"
   ]
  },
  {
   "cell_type": "code",
   "execution_count": 56,
   "id": "8024a375",
   "metadata": {},
   "outputs": [
    {
     "data": {
      "text/html": [
       "<table class=\"simpletable\">\n",
       "<caption>OLS Regression Results</caption>\n",
       "<tr>\n",
       "  <th>Dep. Variable:</th>         <td>Profit</td>      <th>  R-squared:         </th> <td>   0.951</td>\n",
       "</tr>\n",
       "<tr>\n",
       "  <th>Model:</th>                   <td>OLS</td>       <th>  Adj. R-squared:    </th> <td>   0.948</td>\n",
       "</tr>\n",
       "<tr>\n",
       "  <th>Method:</th>             <td>Least Squares</td>  <th>  F-statistic:       </th> <td>   296.0</td>\n",
       "</tr>\n",
       "<tr>\n",
       "  <th>Date:</th>             <td>Wed, 29 Mar 2023</td> <th>  Prob (F-statistic):</th> <td>4.53e-30</td>\n",
       "</tr>\n",
       "<tr>\n",
       "  <th>Time:</th>                 <td>10:20:39</td>     <th>  Log-Likelihood:    </th> <td> -525.39</td>\n",
       "</tr>\n",
       "<tr>\n",
       "  <th>No. Observations:</th>      <td>    50</td>      <th>  AIC:               </th> <td>   1059.</td>\n",
       "</tr>\n",
       "<tr>\n",
       "  <th>Df Residuals:</th>          <td>    46</td>      <th>  BIC:               </th> <td>   1066.</td>\n",
       "</tr>\n",
       "<tr>\n",
       "  <th>Df Model:</th>              <td>     3</td>      <th>                     </th>     <td> </td>   \n",
       "</tr>\n",
       "<tr>\n",
       "  <th>Covariance Type:</th>      <td>nonrobust</td>    <th>                     </th>     <td> </td>   \n",
       "</tr>\n",
       "</table>\n",
       "<table class=\"simpletable\">\n",
       "<tr>\n",
       "      <td></td>         <th>coef</th>     <th>std err</th>      <th>t</th>      <th>P>|t|</th>  <th>[0.025</th>    <th>0.975]</th>  \n",
       "</tr>\n",
       "<tr>\n",
       "  <th>Intercept</th> <td> 5.012e+04</td> <td> 6572.353</td> <td>    7.626</td> <td> 0.000</td> <td> 3.69e+04</td> <td> 6.34e+04</td>\n",
       "</tr>\n",
       "<tr>\n",
       "  <th>RnD</th>       <td>    0.8057</td> <td>    0.045</td> <td>   17.846</td> <td> 0.000</td> <td>    0.715</td> <td>    0.897</td>\n",
       "</tr>\n",
       "<tr>\n",
       "  <th>Admin</th>     <td>   -0.0268</td> <td>    0.051</td> <td>   -0.526</td> <td> 0.602</td> <td>   -0.130</td> <td>    0.076</td>\n",
       "</tr>\n",
       "<tr>\n",
       "  <th>Marketing</th> <td>    0.0272</td> <td>    0.016</td> <td>    1.655</td> <td> 0.105</td> <td>   -0.006</td> <td>    0.060</td>\n",
       "</tr>\n",
       "</table>\n",
       "<table class=\"simpletable\">\n",
       "<tr>\n",
       "  <th>Omnibus:</th>       <td>14.838</td> <th>  Durbin-Watson:     </th> <td>   1.282</td>\n",
       "</tr>\n",
       "<tr>\n",
       "  <th>Prob(Omnibus):</th> <td> 0.001</td> <th>  Jarque-Bera (JB):  </th> <td>  21.442</td>\n",
       "</tr>\n",
       "<tr>\n",
       "  <th>Skew:</th>          <td>-0.949</td> <th>  Prob(JB):          </th> <td>2.21e-05</td>\n",
       "</tr>\n",
       "<tr>\n",
       "  <th>Kurtosis:</th>      <td> 5.586</td> <th>  Cond. No.          </th> <td>1.40e+06</td>\n",
       "</tr>\n",
       "</table><br/><br/>Notes:<br/>[1] Standard Errors assume that the covariance matrix of the errors is correctly specified.<br/>[2] The condition number is large, 1.4e+06. This might indicate that there are<br/>strong multicollinearity or other numerical problems."
      ],
      "text/plain": [
       "<class 'statsmodels.iolib.summary.Summary'>\n",
       "\"\"\"\n",
       "                            OLS Regression Results                            \n",
       "==============================================================================\n",
       "Dep. Variable:                 Profit   R-squared:                       0.951\n",
       "Model:                            OLS   Adj. R-squared:                  0.948\n",
       "Method:                 Least Squares   F-statistic:                     296.0\n",
       "Date:                Wed, 29 Mar 2023   Prob (F-statistic):           4.53e-30\n",
       "Time:                        10:20:39   Log-Likelihood:                -525.39\n",
       "No. Observations:                  50   AIC:                             1059.\n",
       "Df Residuals:                      46   BIC:                             1066.\n",
       "Df Model:                           3                                         \n",
       "Covariance Type:            nonrobust                                         \n",
       "==============================================================================\n",
       "                 coef    std err          t      P>|t|      [0.025      0.975]\n",
       "------------------------------------------------------------------------------\n",
       "Intercept   5.012e+04   6572.353      7.626      0.000    3.69e+04    6.34e+04\n",
       "RnD            0.8057      0.045     17.846      0.000       0.715       0.897\n",
       "Admin         -0.0268      0.051     -0.526      0.602      -0.130       0.076\n",
       "Marketing      0.0272      0.016      1.655      0.105      -0.006       0.060\n",
       "==============================================================================\n",
       "Omnibus:                       14.838   Durbin-Watson:                   1.282\n",
       "Prob(Omnibus):                  0.001   Jarque-Bera (JB):               21.442\n",
       "Skew:                          -0.949   Prob(JB):                     2.21e-05\n",
       "Kurtosis:                       5.586   Cond. No.                     1.40e+06\n",
       "==============================================================================\n",
       "\n",
       "Notes:\n",
       "[1] Standard Errors assume that the covariance matrix of the errors is correctly specified.\n",
       "[2] The condition number is large, 1.4e+06. This might indicate that there are\n",
       "strong multicollinearity or other numerical problems.\n",
       "\"\"\""
      ]
     },
     "execution_count": 56,
     "metadata": {},
     "output_type": "execute_result"
    }
   ],
   "source": [
    "model = smf.ols(\"Profit~RnD+Admin+Marketing\",data =dataset).fit()\n",
    "model.summary()"
   ]
  },
  {
   "cell_type": "code",
   "execution_count": 57,
   "id": "c876ca5b",
   "metadata": {},
   "outputs": [
    {
     "data": {
      "text/plain": [
       "(0.9507459940683246, 0.9475337762901719)"
      ]
     },
     "execution_count": 57,
     "metadata": {},
     "output_type": "execute_result"
    }
   ],
   "source": [
    "# Finding rsquared values\n",
    "model.rsquared, model.rsquared_adj"
   ]
  },
  {
   "cell_type": "code",
   "execution_count": 62,
   "id": "7f5cda3e",
   "metadata": {},
   "outputs": [
    {
     "data": {
      "image/png": "[encoded data removed]",
      "text/plain": [
       "<Figure size 576x576 with 1 Axes>"
      ]
     },
     "metadata": {
      "needs_background": "light"
     },
     "output_type": "display_data"
    }
   ],
   "source": [
    "df = dataset.copy()\n",
    "sns.boxplot(df['Profit'])\n",
    "plt.title('Profit before median imputation')\n",
    "plt.show()"
   ]
  },
  {
   "cell_type": "markdown",
   "id": "d845e30c",
   "metadata": {},
   "source": [
    "Let's test our data in model and compare the R-squared with Median imputation data model"
   ]
  },
  {
   "cell_type": "code",
   "execution_count": 64,
   "id": "eb84ffd4",
   "metadata": {},
   "outputs": [
    {
     "data": {
      "image/png": "[encoded data removed]",
      "text/plain": [
       "<Figure size 576x576 with 1 Axes>"
      ]
     },
     "metadata": {
      "needs_background": "light"
     },
     "output_type": "display_data"
    }
   ],
   "source": [
    "for i in df['Profit']:\n",
    "    q1 = np.quantile(df.Profit,0.25)\n",
    "    q3 = np.quantile(df.Profit,0.75)\n",
    "    med = np.median(df.Profit)\n",
    "    iqr = q3 - q1\n",
    "    upper_bound = q3+(1.5*iqr)\n",
    "    lower_bound = q1-(1.5*iqr)\n",
    "    if i > upper_bound or i < lower_bound:\n",
    "        df['Profit'] = df['Profit'].replace(i, np.median(df['Profit']))\n",
    "sns.boxplot(df['Profit'])\n",
    "plt.title('Profit after median imputation')\n",
    "plt.show()"
   ]
  },
  {
   "cell_type": "markdown",
   "id": "fc4bccbe",
   "metadata": {},
   "source": [
    "Let's test our data in model and compare the R-squared with Median imputation data model"
   ]
  },
  {
   "cell_type": "code",
   "execution_count": 65,
   "id": "dedc1fef",
   "metadata": {},
   "outputs": [
    {
     "data": {
      "text/html": [
       "<table class=\"simpletable\">\n",
       "<caption>OLS Regression Results</caption>\n",
       "<tr>\n",
       "  <th>Dep. Variable:</th>         <td>Profit</td>      <th>  R-squared:         </th> <td>   0.951</td>\n",
       "</tr>\n",
       "<tr>\n",
       "  <th>Model:</th>                   <td>OLS</td>       <th>  Adj. R-squared:    </th> <td>   0.948</td>\n",
       "</tr>\n",
       "<tr>\n",
       "  <th>Method:</th>             <td>Least Squares</td>  <th>  F-statistic:       </th> <td>   296.0</td>\n",
       "</tr>\n",
       "<tr>\n",
       "  <th>Date:</th>             <td>Wed, 29 Mar 2023</td> <th>  Prob (F-statistic):</th> <td>4.53e-30</td>\n",
       "</tr>\n",
       "<tr>\n",
       "  <th>Time:</th>                 <td>10:28:57</td>     <th>  Log-Likelihood:    </th> <td> -525.39</td>\n",
       "</tr>\n",
       "<tr>\n",
       "  <th>No. Observations:</th>      <td>    50</td>      <th>  AIC:               </th> <td>   1059.</td>\n",
       "</tr>\n",
       "<tr>\n",
       "  <th>Df Residuals:</th>          <td>    46</td>      <th>  BIC:               </th> <td>   1066.</td>\n",
       "</tr>\n",
       "<tr>\n",
       "  <th>Df Model:</th>              <td>     3</td>      <th>                     </th>     <td> </td>   \n",
       "</tr>\n",
       "<tr>\n",
       "  <th>Covariance Type:</th>      <td>nonrobust</td>    <th>                     </th>     <td> </td>   \n",
       "</tr>\n",
       "</table>\n",
       "<table class=\"simpletable\">\n",
       "<tr>\n",
       "      <td></td>         <th>coef</th>     <th>std err</th>      <th>t</th>      <th>P>|t|</th>  <th>[0.025</th>    <th>0.975]</th>  \n",
       "</tr>\n",
       "<tr>\n",
       "  <th>Intercept</th> <td> 5.012e+04</td> <td> 6572.353</td> <td>    7.626</td> <td> 0.000</td> <td> 3.69e+04</td> <td> 6.34e+04</td>\n",
       "</tr>\n",
       "<tr>\n",
       "  <th>RnD</th>       <td>    0.8057</td> <td>    0.045</td> <td>   17.846</td> <td> 0.000</td> <td>    0.715</td> <td>    0.897</td>\n",
       "</tr>\n",
       "<tr>\n",
       "  <th>Admin</th>     <td>   -0.0268</td> <td>    0.051</td> <td>   -0.526</td> <td> 0.602</td> <td>   -0.130</td> <td>    0.076</td>\n",
       "</tr>\n",
       "<tr>\n",
       "  <th>Marketing</th> <td>    0.0272</td> <td>    0.016</td> <td>    1.655</td> <td> 0.105</td> <td>   -0.006</td> <td>    0.060</td>\n",
       "</tr>\n",
       "</table>\n",
       "<table class=\"simpletable\">\n",
       "<tr>\n",
       "  <th>Omnibus:</th>       <td>14.838</td> <th>  Durbin-Watson:     </th> <td>   1.282</td>\n",
       "</tr>\n",
       "<tr>\n",
       "  <th>Prob(Omnibus):</th> <td> 0.001</td> <th>  Jarque-Bera (JB):  </th> <td>  21.442</td>\n",
       "</tr>\n",
       "<tr>\n",
       "  <th>Skew:</th>          <td>-0.949</td> <th>  Prob(JB):          </th> <td>2.21e-05</td>\n",
       "</tr>\n",
       "<tr>\n",
       "  <th>Kurtosis:</th>      <td> 5.586</td> <th>  Cond. No.          </th> <td>1.40e+06</td>\n",
       "</tr>\n",
       "</table><br/><br/>Notes:<br/>[1] Standard Errors assume that the covariance matrix of the errors is correctly specified.<br/>[2] The condition number is large, 1.4e+06. This might indicate that there are<br/>strong multicollinearity or other numerical problems."
      ],
      "text/plain": [
       "<class 'statsmodels.iolib.summary.Summary'>\n",
       "\"\"\"\n",
       "                            OLS Regression Results                            \n",
       "==============================================================================\n",
       "Dep. Variable:                 Profit   R-squared:                       0.951\n",
       "Model:                            OLS   Adj. R-squared:                  0.948\n",
       "Method:                 Least Squares   F-statistic:                     296.0\n",
       "Date:                Wed, 29 Mar 2023   Prob (F-statistic):           4.53e-30\n",
       "Time:                        10:28:57   Log-Likelihood:                -525.39\n",
       "No. Observations:                  50   AIC:                             1059.\n",
       "Df Residuals:                      46   BIC:                             1066.\n",
       "Df Model:                           3                                         \n",
       "Covariance Type:            nonrobust                                         \n",
       "==============================================================================\n",
       "                 coef    std err          t      P>|t|      [0.025      0.975]\n",
       "------------------------------------------------------------------------------\n",
       "Intercept   5.012e+04   6572.353      7.626      0.000    3.69e+04    6.34e+04\n",
       "RnD            0.8057      0.045     17.846      0.000       0.715       0.897\n",
       "Admin         -0.0268      0.051     -0.526      0.602      -0.130       0.076\n",
       "Marketing      0.0272      0.016      1.655      0.105      -0.006       0.060\n",
       "==============================================================================\n",
       "Omnibus:                       14.838   Durbin-Watson:                   1.282\n",
       "Prob(Omnibus):                  0.001   Jarque-Bera (JB):               21.442\n",
       "Skew:                          -0.949   Prob(JB):                     2.21e-05\n",
       "Kurtosis:                       5.586   Cond. No.                     1.40e+06\n",
       "==============================================================================\n",
       "\n",
       "Notes:\n",
       "[1] Standard Errors assume that the covariance matrix of the errors is correctly specified.\n",
       "[2] The condition number is large, 1.4e+06. This might indicate that there are\n",
       "strong multicollinearity or other numerical problems.\n",
       "\"\"\""
      ]
     },
     "execution_count": 65,
     "metadata": {},
     "output_type": "execute_result"
    }
   ],
   "source": [
    "model_after_median_imputation = smf.ols(\"Profit~RnD+Admin+Marketing\", data = dataset).fit()\n",
    "# Finding rsquared values\n",
    "model_after_median_imputation.summary()"
   ]
  },
  {
   "cell_type": "markdown",
   "id": "caefc199",
   "metadata": {},
   "source": [
    "Observation: As you can see after median imputation the model is not performing well\n",
    "Now we have to try something else to get out better results\n",
    "Let's try Mean Imputation to handle Outliers in Profit"
   ]
  },
  {
   "cell_type": "code",
   "execution_count": 66,
   "id": "a30d8023",
   "metadata": {},
   "outputs": [
    {
     "data": {
      "image/png": "[encoded data removed]",
      "text/plain": [
       "<Figure size 576x576 with 1 Axes>"
      ]
     },
     "metadata": {
      "needs_background": "light"
     },
     "output_type": "display_data"
    }
   ],
   "source": [
    "df1 = df.copy()\n",
    "for i in df1['Profit']:\n",
    "    q1 = np.quantile(df1.Profit,0.25)\n",
    "    q3 = np.quantile(df1.Profit,0.75)\n",
    "    med = np.median(df1.Profit)\n",
    "    iqr = q3 - q1\n",
    "    upper_bound = q3+(1.5*iqr)\n",
    "    lower_bound = q1-(1.5*iqr)\n",
    "    if i > upper_bound or i < lower_bound:\n",
    "        df1['Profit'] = df1['Profit'].replace(i, np.mean(df1['Profit']))\n",
    "sns.boxplot(df1['Profit'])\n",
    "plt.title('Profit after mean imputation')\n",
    "plt.show()\n"
   ]
  },
  {
   "cell_type": "markdown",
   "id": "19969847",
   "metadata": {},
   "source": [
    "Let's test our data in model and compare the R-squared with Mean imputation data model"
   ]
  },
  {
   "cell_type": "code",
   "execution_count": 68,
   "id": "d3a51492",
   "metadata": {},
   "outputs": [
    {
     "data": {
      "text/html": [
       "<table class=\"simpletable\">\n",
       "<caption>OLS Regression Results</caption>\n",
       "<tr>\n",
       "  <th>Dep. Variable:</th>         <td>Profit</td>      <th>  R-squared:         </th> <td>   0.918</td>\n",
       "</tr>\n",
       "<tr>\n",
       "  <th>Model:</th>                   <td>OLS</td>       <th>  Adj. R-squared:    </th> <td>   0.913</td>\n",
       "</tr>\n",
       "<tr>\n",
       "  <th>Method:</th>             <td>Least Squares</td>  <th>  F-statistic:       </th> <td>   172.3</td>\n",
       "</tr>\n",
       "<tr>\n",
       "  <th>Date:</th>             <td>Wed, 29 Mar 2023</td> <th>  Prob (F-statistic):</th> <td>5.06e-25</td>\n",
       "</tr>\n",
       "<tr>\n",
       "  <th>Time:</th>                 <td>10:30:11</td>     <th>  Log-Likelihood:    </th> <td> -534.81</td>\n",
       "</tr>\n",
       "<tr>\n",
       "  <th>No. Observations:</th>      <td>    50</td>      <th>  AIC:               </th> <td>   1078.</td>\n",
       "</tr>\n",
       "<tr>\n",
       "  <th>Df Residuals:</th>          <td>    46</td>      <th>  BIC:               </th> <td>   1085.</td>\n",
       "</tr>\n",
       "<tr>\n",
       "  <th>Df Model:</th>              <td>     3</td>      <th>                     </th>     <td> </td>   \n",
       "</tr>\n",
       "<tr>\n",
       "  <th>Covariance Type:</th>      <td>nonrobust</td>    <th>                     </th>     <td> </td>   \n",
       "</tr>\n",
       "</table>\n",
       "<table class=\"simpletable\">\n",
       "<tr>\n",
       "      <td></td>         <th>coef</th>     <th>std err</th>      <th>t</th>      <th>P>|t|</th>  <th>[0.025</th>    <th>0.975]</th>  \n",
       "</tr>\n",
       "<tr>\n",
       "  <th>Intercept</th> <td> 5.594e+04</td> <td> 7936.330</td> <td>    7.049</td> <td> 0.000</td> <td>    4e+04</td> <td> 7.19e+04</td>\n",
       "</tr>\n",
       "<tr>\n",
       "  <th>RnD</th>       <td>    0.7472</td> <td>    0.055</td> <td>   13.707</td> <td> 0.000</td> <td>    0.638</td> <td>    0.857</td>\n",
       "</tr>\n",
       "<tr>\n",
       "  <th>Admin</th>     <td>   -0.0149</td> <td>    0.062</td> <td>   -0.242</td> <td> 0.810</td> <td>   -0.139</td> <td>    0.109</td>\n",
       "</tr>\n",
       "<tr>\n",
       "  <th>Marketing</th> <td>    0.0221</td> <td>    0.020</td> <td>    1.112</td> <td> 0.272</td> <td>   -0.018</td> <td>    0.062</td>\n",
       "</tr>\n",
       "</table>\n",
       "<table class=\"simpletable\">\n",
       "<tr>\n",
       "  <th>Omnibus:</th>       <td>45.356</td> <th>  Durbin-Watson:     </th> <td>   1.603</td>\n",
       "</tr>\n",
       "<tr>\n",
       "  <th>Prob(Omnibus):</th> <td> 0.000</td> <th>  Jarque-Bera (JB):  </th> <td> 233.667</td>\n",
       "</tr>\n",
       "<tr>\n",
       "  <th>Skew:</th>          <td> 2.221</td> <th>  Prob(JB):          </th> <td>1.82e-51</td>\n",
       "</tr>\n",
       "<tr>\n",
       "  <th>Kurtosis:</th>      <td>12.614</td> <th>  Cond. No.          </th> <td>1.40e+06</td>\n",
       "</tr>\n",
       "</table><br/><br/>Notes:<br/>[1] Standard Errors assume that the covariance matrix of the errors is correctly specified.<br/>[2] The condition number is large, 1.4e+06. This might indicate that there are<br/>strong multicollinearity or other numerical problems."
      ],
      "text/plain": [
       "<class 'statsmodels.iolib.summary.Summary'>\n",
       "\"\"\"\n",
       "                            OLS Regression Results                            \n",
       "==============================================================================\n",
       "Dep. Variable:                 Profit   R-squared:                       0.918\n",
       "Model:                            OLS   Adj. R-squared:                  0.913\n",
       "Method:                 Least Squares   F-statistic:                     172.3\n",
       "Date:                Wed, 29 Mar 2023   Prob (F-statistic):           5.06e-25\n",
       "Time:                        10:30:11   Log-Likelihood:                -534.81\n",
       "No. Observations:                  50   AIC:                             1078.\n",
       "Df Residuals:                      46   BIC:                             1085.\n",
       "Df Model:                           3                                         \n",
       "Covariance Type:            nonrobust                                         \n",
       "==============================================================================\n",
       "                 coef    std err          t      P>|t|      [0.025      0.975]\n",
       "------------------------------------------------------------------------------\n",
       "Intercept   5.594e+04   7936.330      7.049      0.000       4e+04    7.19e+04\n",
       "RnD            0.7472      0.055     13.707      0.000       0.638       0.857\n",
       "Admin         -0.0149      0.062     -0.242      0.810      -0.139       0.109\n",
       "Marketing      0.0221      0.020      1.112      0.272      -0.018       0.062\n",
       "==============================================================================\n",
       "Omnibus:                       45.356   Durbin-Watson:                   1.603\n",
       "Prob(Omnibus):                  0.000   Jarque-Bera (JB):              233.667\n",
       "Skew:                           2.221   Prob(JB):                     1.82e-51\n",
       "Kurtosis:                      12.614   Cond. No.                     1.40e+06\n",
       "==============================================================================\n",
       "\n",
       "Notes:\n",
       "[1] Standard Errors assume that the covariance matrix of the errors is correctly specified.\n",
       "[2] The condition number is large, 1.4e+06. This might indicate that there are\n",
       "strong multicollinearity or other numerical problems.\n",
       "\"\"\""
      ]
     },
     "execution_count": 68,
     "metadata": {},
     "output_type": "execute_result"
    }
   ],
   "source": [
    "model_after_mean_imputation = smf.ols(\"Profit~RnD+Admin+Marketing\", data = df1).fit()\n",
    "# Finding rsquared values\n",
    "model_after_mean_imputation.summary() "
   ]
  },
  {
   "cell_type": "markdown",
   "id": "a663a70f",
   "metadata": {},
   "source": [
    "As you can see after mean imputation the model is not performing well it got a little worse than the median one\n",
    "Now we have to try something else to get out better results than the raw data\n",
    "\n",
    "\n",
    "The best thing we can do is now to remove the outlier and see the results"
   ]
  },
  {
   "cell_type": "code",
   "execution_count": 69,
   "id": "44b8aa6d",
   "metadata": {},
   "outputs": [
    {
     "data": {
      "text/html": [
       "<div>\n",
       "<style scoped>\n",
       "    .dataframe tbody tr th:only-of-type {\n",
       "        vertical-align: middle;\n",
       "    }\n",
       "\n",
       "    .dataframe tbody tr th {\n",
       "        vertical-align: top;\n",
       "    }\n",
       "\n",
       "    .dataframe thead th {\n",
       "        text-align: right;\n",
       "    }\n",
       "</style>\n",
       "<table border=\"1\" class=\"dataframe\">\n",
       "  <thead>\n",
       "    <tr style=\"text-align: right;\">\n",
       "      <th></th>\n",
       "      <th>RnD</th>\n",
       "      <th>Admin</th>\n",
       "      <th>Marketing</th>\n",
       "      <th>State</th>\n",
       "      <th>Profit</th>\n",
       "    </tr>\n",
       "  </thead>\n",
       "  <tbody>\n",
       "    <tr>\n",
       "      <th>0</th>\n",
       "      <td>165349.20</td>\n",
       "      <td>136897.80</td>\n",
       "      <td>471784.10</td>\n",
       "      <td>New York</td>\n",
       "      <td>192261.83</td>\n",
       "    </tr>\n",
       "    <tr>\n",
       "      <th>1</th>\n",
       "      <td>162597.70</td>\n",
       "      <td>151377.59</td>\n",
       "      <td>443898.53</td>\n",
       "      <td>California</td>\n",
       "      <td>191792.06</td>\n",
       "    </tr>\n",
       "    <tr>\n",
       "      <th>2</th>\n",
       "      <td>153441.51</td>\n",
       "      <td>101145.55</td>\n",
       "      <td>407934.54</td>\n",
       "      <td>Florida</td>\n",
       "      <td>191050.39</td>\n",
       "    </tr>\n",
       "    <tr>\n",
       "      <th>3</th>\n",
       "      <td>144372.41</td>\n",
       "      <td>118671.85</td>\n",
       "      <td>383199.62</td>\n",
       "      <td>New York</td>\n",
       "      <td>182901.99</td>\n",
       "    </tr>\n",
       "    <tr>\n",
       "      <th>4</th>\n",
       "      <td>142107.34</td>\n",
       "      <td>91391.77</td>\n",
       "      <td>366168.42</td>\n",
       "      <td>Florida</td>\n",
       "      <td>166187.94</td>\n",
       "    </tr>\n",
       "    <tr>\n",
       "      <th>5</th>\n",
       "      <td>131876.90</td>\n",
       "      <td>99814.71</td>\n",
       "      <td>362861.36</td>\n",
       "      <td>New York</td>\n",
       "      <td>156991.12</td>\n",
       "    </tr>\n",
       "    <tr>\n",
       "      <th>6</th>\n",
       "      <td>134615.46</td>\n",
       "      <td>147198.87</td>\n",
       "      <td>127716.82</td>\n",
       "      <td>California</td>\n",
       "      <td>156122.51</td>\n",
       "    </tr>\n",
       "    <tr>\n",
       "      <th>7</th>\n",
       "      <td>130298.13</td>\n",
       "      <td>145530.06</td>\n",
       "      <td>323876.68</td>\n",
       "      <td>Florida</td>\n",
       "      <td>155752.60</td>\n",
       "    </tr>\n",
       "    <tr>\n",
       "      <th>8</th>\n",
       "      <td>120542.52</td>\n",
       "      <td>148718.95</td>\n",
       "      <td>311613.29</td>\n",
       "      <td>New York</td>\n",
       "      <td>152211.77</td>\n",
       "    </tr>\n",
       "    <tr>\n",
       "      <th>9</th>\n",
       "      <td>123334.88</td>\n",
       "      <td>108679.17</td>\n",
       "      <td>304981.62</td>\n",
       "      <td>California</td>\n",
       "      <td>149759.96</td>\n",
       "    </tr>\n",
       "    <tr>\n",
       "      <th>10</th>\n",
       "      <td>101913.08</td>\n",
       "      <td>110594.11</td>\n",
       "      <td>229160.95</td>\n",
       "      <td>Florida</td>\n",
       "      <td>146121.95</td>\n",
       "    </tr>\n",
       "    <tr>\n",
       "      <th>11</th>\n",
       "      <td>100671.96</td>\n",
       "      <td>91790.61</td>\n",
       "      <td>249744.55</td>\n",
       "      <td>California</td>\n",
       "      <td>144259.40</td>\n",
       "    </tr>\n",
       "    <tr>\n",
       "      <th>12</th>\n",
       "      <td>93863.75</td>\n",
       "      <td>127320.38</td>\n",
       "      <td>249839.44</td>\n",
       "      <td>Florida</td>\n",
       "      <td>141585.52</td>\n",
       "    </tr>\n",
       "    <tr>\n",
       "      <th>13</th>\n",
       "      <td>91992.39</td>\n",
       "      <td>135495.07</td>\n",
       "      <td>252664.93</td>\n",
       "      <td>California</td>\n",
       "      <td>134307.35</td>\n",
       "    </tr>\n",
       "    <tr>\n",
       "      <th>14</th>\n",
       "      <td>119943.24</td>\n",
       "      <td>156547.42</td>\n",
       "      <td>256512.92</td>\n",
       "      <td>Florida</td>\n",
       "      <td>132602.65</td>\n",
       "    </tr>\n",
       "    <tr>\n",
       "      <th>15</th>\n",
       "      <td>114523.61</td>\n",
       "      <td>122616.84</td>\n",
       "      <td>261776.23</td>\n",
       "      <td>New York</td>\n",
       "      <td>129917.04</td>\n",
       "    </tr>\n",
       "    <tr>\n",
       "      <th>16</th>\n",
       "      <td>78013.11</td>\n",
       "      <td>121597.55</td>\n",
       "      <td>264346.06</td>\n",
       "      <td>California</td>\n",
       "      <td>126992.93</td>\n",
       "    </tr>\n",
       "    <tr>\n",
       "      <th>17</th>\n",
       "      <td>94657.16</td>\n",
       "      <td>145077.58</td>\n",
       "      <td>282574.31</td>\n",
       "      <td>New York</td>\n",
       "      <td>125370.37</td>\n",
       "    </tr>\n",
       "    <tr>\n",
       "      <th>18</th>\n",
       "      <td>91749.16</td>\n",
       "      <td>114175.79</td>\n",
       "      <td>294919.57</td>\n",
       "      <td>Florida</td>\n",
       "      <td>124266.90</td>\n",
       "    </tr>\n",
       "    <tr>\n",
       "      <th>19</th>\n",
       "      <td>86419.70</td>\n",
       "      <td>153514.11</td>\n",
       "      <td>0.00</td>\n",
       "      <td>New York</td>\n",
       "      <td>122776.86</td>\n",
       "    </tr>\n",
       "    <tr>\n",
       "      <th>20</th>\n",
       "      <td>76253.86</td>\n",
       "      <td>113867.30</td>\n",
       "      <td>298664.47</td>\n",
       "      <td>California</td>\n",
       "      <td>118474.03</td>\n",
       "    </tr>\n",
       "    <tr>\n",
       "      <th>21</th>\n",
       "      <td>78389.47</td>\n",
       "      <td>153773.43</td>\n",
       "      <td>299737.29</td>\n",
       "      <td>New York</td>\n",
       "      <td>111313.02</td>\n",
       "    </tr>\n",
       "    <tr>\n",
       "      <th>22</th>\n",
       "      <td>73994.56</td>\n",
       "      <td>122782.75</td>\n",
       "      <td>303319.26</td>\n",
       "      <td>Florida</td>\n",
       "      <td>110352.25</td>\n",
       "    </tr>\n",
       "    <tr>\n",
       "      <th>23</th>\n",
       "      <td>67532.53</td>\n",
       "      <td>105751.03</td>\n",
       "      <td>304768.73</td>\n",
       "      <td>Florida</td>\n",
       "      <td>108733.99</td>\n",
       "    </tr>\n",
       "    <tr>\n",
       "      <th>24</th>\n",
       "      <td>77044.01</td>\n",
       "      <td>99281.34</td>\n",
       "      <td>140574.81</td>\n",
       "      <td>New York</td>\n",
       "      <td>108552.04</td>\n",
       "    </tr>\n",
       "    <tr>\n",
       "      <th>25</th>\n",
       "      <td>64664.71</td>\n",
       "      <td>139553.16</td>\n",
       "      <td>137962.62</td>\n",
       "      <td>California</td>\n",
       "      <td>107404.34</td>\n",
       "    </tr>\n",
       "    <tr>\n",
       "      <th>26</th>\n",
       "      <td>75328.87</td>\n",
       "      <td>144135.98</td>\n",
       "      <td>134050.07</td>\n",
       "      <td>Florida</td>\n",
       "      <td>105733.54</td>\n",
       "    </tr>\n",
       "    <tr>\n",
       "      <th>27</th>\n",
       "      <td>72107.60</td>\n",
       "      <td>127864.55</td>\n",
       "      <td>353183.81</td>\n",
       "      <td>New York</td>\n",
       "      <td>105008.31</td>\n",
       "    </tr>\n",
       "    <tr>\n",
       "      <th>28</th>\n",
       "      <td>66051.52</td>\n",
       "      <td>182645.56</td>\n",
       "      <td>118148.20</td>\n",
       "      <td>Florida</td>\n",
       "      <td>103282.38</td>\n",
       "    </tr>\n",
       "    <tr>\n",
       "      <th>29</th>\n",
       "      <td>65605.48</td>\n",
       "      <td>153032.06</td>\n",
       "      <td>107138.38</td>\n",
       "      <td>New York</td>\n",
       "      <td>101004.64</td>\n",
       "    </tr>\n",
       "    <tr>\n",
       "      <th>30</th>\n",
       "      <td>61994.48</td>\n",
       "      <td>115641.28</td>\n",
       "      <td>91131.24</td>\n",
       "      <td>Florida</td>\n",
       "      <td>99937.59</td>\n",
       "    </tr>\n",
       "    <tr>\n",
       "      <th>31</th>\n",
       "      <td>61136.38</td>\n",
       "      <td>152701.92</td>\n",
       "      <td>88218.23</td>\n",
       "      <td>New York</td>\n",
       "      <td>97483.56</td>\n",
       "    </tr>\n",
       "    <tr>\n",
       "      <th>32</th>\n",
       "      <td>63408.86</td>\n",
       "      <td>129219.61</td>\n",
       "      <td>46085.25</td>\n",
       "      <td>California</td>\n",
       "      <td>97427.84</td>\n",
       "    </tr>\n",
       "    <tr>\n",
       "      <th>33</th>\n",
       "      <td>55493.95</td>\n",
       "      <td>103057.49</td>\n",
       "      <td>214634.81</td>\n",
       "      <td>Florida</td>\n",
       "      <td>96778.92</td>\n",
       "    </tr>\n",
       "    <tr>\n",
       "      <th>34</th>\n",
       "      <td>46426.07</td>\n",
       "      <td>157693.92</td>\n",
       "      <td>210797.67</td>\n",
       "      <td>California</td>\n",
       "      <td>96712.80</td>\n",
       "    </tr>\n",
       "    <tr>\n",
       "      <th>35</th>\n",
       "      <td>46014.02</td>\n",
       "      <td>85047.44</td>\n",
       "      <td>205517.64</td>\n",
       "      <td>New York</td>\n",
       "      <td>96479.51</td>\n",
       "    </tr>\n",
       "    <tr>\n",
       "      <th>36</th>\n",
       "      <td>28663.76</td>\n",
       "      <td>127056.21</td>\n",
       "      <td>201126.82</td>\n",
       "      <td>Florida</td>\n",
       "      <td>90708.19</td>\n",
       "    </tr>\n",
       "    <tr>\n",
       "      <th>37</th>\n",
       "      <td>44069.95</td>\n",
       "      <td>51283.14</td>\n",
       "      <td>197029.42</td>\n",
       "      <td>California</td>\n",
       "      <td>89949.14</td>\n",
       "    </tr>\n",
       "    <tr>\n",
       "      <th>38</th>\n",
       "      <td>20229.59</td>\n",
       "      <td>65947.93</td>\n",
       "      <td>185265.10</td>\n",
       "      <td>New York</td>\n",
       "      <td>81229.06</td>\n",
       "    </tr>\n",
       "    <tr>\n",
       "      <th>39</th>\n",
       "      <td>38558.51</td>\n",
       "      <td>82982.09</td>\n",
       "      <td>174999.30</td>\n",
       "      <td>California</td>\n",
       "      <td>81005.76</td>\n",
       "    </tr>\n",
       "    <tr>\n",
       "      <th>40</th>\n",
       "      <td>28754.33</td>\n",
       "      <td>118546.05</td>\n",
       "      <td>172795.67</td>\n",
       "      <td>California</td>\n",
       "      <td>78239.91</td>\n",
       "    </tr>\n",
       "    <tr>\n",
       "      <th>41</th>\n",
       "      <td>27892.92</td>\n",
       "      <td>84710.77</td>\n",
       "      <td>164470.71</td>\n",
       "      <td>Florida</td>\n",
       "      <td>77798.83</td>\n",
       "    </tr>\n",
       "    <tr>\n",
       "      <th>42</th>\n",
       "      <td>23640.93</td>\n",
       "      <td>96189.63</td>\n",
       "      <td>148001.11</td>\n",
       "      <td>California</td>\n",
       "      <td>71498.49</td>\n",
       "    </tr>\n",
       "    <tr>\n",
       "      <th>43</th>\n",
       "      <td>15505.73</td>\n",
       "      <td>127382.30</td>\n",
       "      <td>35534.17</td>\n",
       "      <td>New York</td>\n",
       "      <td>69758.98</td>\n",
       "    </tr>\n",
       "    <tr>\n",
       "      <th>44</th>\n",
       "      <td>22177.74</td>\n",
       "      <td>154806.14</td>\n",
       "      <td>28334.72</td>\n",
       "      <td>California</td>\n",
       "      <td>65200.33</td>\n",
       "    </tr>\n",
       "    <tr>\n",
       "      <th>45</th>\n",
       "      <td>1000.23</td>\n",
       "      <td>124153.04</td>\n",
       "      <td>1903.93</td>\n",
       "      <td>New York</td>\n",
       "      <td>64926.08</td>\n",
       "    </tr>\n",
       "    <tr>\n",
       "      <th>46</th>\n",
       "      <td>1315.46</td>\n",
       "      <td>115816.21</td>\n",
       "      <td>297114.46</td>\n",
       "      <td>Florida</td>\n",
       "      <td>49490.75</td>\n",
       "    </tr>\n",
       "    <tr>\n",
       "      <th>47</th>\n",
       "      <td>0.00</td>\n",
       "      <td>135426.92</td>\n",
       "      <td>0.00</td>\n",
       "      <td>California</td>\n",
       "      <td>42559.73</td>\n",
       "    </tr>\n",
       "    <tr>\n",
       "      <th>48</th>\n",
       "      <td>542.05</td>\n",
       "      <td>51743.15</td>\n",
       "      <td>0.00</td>\n",
       "      <td>New York</td>\n",
       "      <td>35673.41</td>\n",
       "    </tr>\n",
       "  </tbody>\n",
       "</table>\n",
       "</div>"
      ],
      "text/plain": [
       "          RnD      Admin  Marketing       State     Profit\n",
       "0   165349.20  136897.80  471784.10    New York  192261.83\n",
       "1   162597.70  151377.59  443898.53  California  191792.06\n",
       "2   153441.51  101145.55  407934.54     Florida  191050.39\n",
       "3   144372.41  118671.85  383199.62    New York  182901.99\n",
       "4   142107.34   91391.77  366168.42     Florida  166187.94\n",
       "5   131876.90   99814.71  362861.36    New York  156991.12\n",
       "6   134615.46  147198.87  127716.82  California  156122.51\n",
       "7   130298.13  145530.06  323876.68     Florida  155752.60\n",
       "8   120542.52  148718.95  311613.29    New York  152211.77\n",
       "9   123334.88  108679.17  304981.62  California  149759.96\n",
       "10  101913.08  110594.11  229160.95     Florida  146121.95\n",
       "11  100671.96   91790.61  249744.55  California  144259.40\n",
       "12   93863.75  127320.38  249839.44     Florida  141585.52\n",
       "13   91992.39  135495.07  252664.93  California  134307.35\n",
       "14  119943.24  156547.42  256512.92     Florida  132602.65\n",
       "15  114523.61  122616.84  261776.23    New York  129917.04\n",
       "16   78013.11  121597.55  264346.06  California  126992.93\n",
       "17   94657.16  145077.58  282574.31    New York  125370.37\n",
       "18   91749.16  114175.79  294919.57     Florida  124266.90\n",
       "19   86419.70  153514.11       0.00    New York  122776.86\n",
       "20   76253.86  113867.30  298664.47  California  118474.03\n",
       "21   78389.47  153773.43  299737.29    New York  111313.02\n",
       "22   73994.56  122782.75  303319.26     Florida  110352.25\n",
       "23   67532.53  105751.03  304768.73     Florida  108733.99\n",
       "24   77044.01   99281.34  140574.81    New York  108552.04\n",
       "25   64664.71  139553.16  137962.62  California  107404.34\n",
       "26   75328.87  144135.98  134050.07     Florida  105733.54\n",
       "27   72107.60  127864.55  353183.81    New York  105008.31\n",
       "28   66051.52  182645.56  118148.20     Florida  103282.38\n",
       "29   65605.48  153032.06  107138.38    New York  101004.64\n",
       "30   61994.48  115641.28   91131.24     Florida   99937.59\n",
       "31   61136.38  152701.92   88218.23    New York   97483.56\n",
       "32   63408.86  129219.61   46085.25  California   97427.84\n",
       "33   55493.95  103057.49  214634.81     Florida   96778.92\n",
       "34   46426.07  157693.92  210797.67  California   96712.80\n",
       "35   46014.02   85047.44  205517.64    New York   96479.51\n",
       "36   28663.76  127056.21  201126.82     Florida   90708.19\n",
       "37   44069.95   51283.14  197029.42  California   89949.14\n",
       "38   20229.59   65947.93  185265.10    New York   81229.06\n",
       "39   38558.51   82982.09  174999.30  California   81005.76\n",
       "40   28754.33  118546.05  172795.67  California   78239.91\n",
       "41   27892.92   84710.77  164470.71     Florida   77798.83\n",
       "42   23640.93   96189.63  148001.11  California   71498.49\n",
       "43   15505.73  127382.30   35534.17    New York   69758.98\n",
       "44   22177.74  154806.14   28334.72  California   65200.33\n",
       "45    1000.23  124153.04    1903.93    New York   64926.08\n",
       "46    1315.46  115816.21  297114.46     Florida   49490.75\n",
       "47       0.00  135426.92       0.00  California   42559.73\n",
       "48     542.05   51743.15       0.00    New York   35673.41"
      ]
     },
     "execution_count": 69,
     "metadata": {},
     "output_type": "execute_result"
    }
   ],
   "source": [
    "data2 = dataset.copy()\n",
    "data2.drop([49], inplace = True)\n",
    "data2"
   ]
  },
  {
   "cell_type": "markdown",
   "id": "1a4abf44",
   "metadata": {},
   "source": [
    "Since our Outlier was at 49th row , we will drop that row"
   ]
  },
  {
   "cell_type": "code",
   "execution_count": 70,
   "id": "8d1eeb3f",
   "metadata": {},
   "outputs": [
    {
     "data": {
      "image/png": "[encoded data removed]",
      "text/plain": [
       "<Figure size 576x576 with 1 Axes>"
      ]
     },
     "metadata": {
      "needs_background": "light"
     },
     "output_type": "display_data"
    }
   ],
   "source": [
    "sns.boxplot(data2.Profit)\n",
    "plt.title('Profit after removing Outliers')\n",
    "plt.show()"
   ]
  },
  {
   "cell_type": "markdown",
   "id": "3f7a07c4",
   "metadata": {},
   "source": [
    "Let's test our data in model and compare the R-squared with and without imputation data models"
   ]
  },
  {
   "cell_type": "code",
   "execution_count": 71,
   "id": "1e16b5ff",
   "metadata": {},
   "outputs": [
    {
     "data": {
      "text/html": [
       "<table class=\"simpletable\">\n",
       "<caption>OLS Regression Results</caption>\n",
       "<tr>\n",
       "  <th>Dep. Variable:</th>         <td>Profit</td>      <th>  R-squared:         </th> <td>   0.961</td>\n",
       "</tr>\n",
       "<tr>\n",
       "  <th>Model:</th>                   <td>OLS</td>       <th>  Adj. R-squared:    </th> <td>   0.959</td>\n",
       "</tr>\n",
       "<tr>\n",
       "  <th>Method:</th>             <td>Least Squares</td>  <th>  F-statistic:       </th> <td>   372.8</td>\n",
       "</tr>\n",
       "<tr>\n",
       "  <th>Date:</th>             <td>Wed, 29 Mar 2023</td> <th>  Prob (F-statistic):</th> <td>8.85e-32</td>\n",
       "</tr>\n",
       "<tr>\n",
       "  <th>Time:</th>                 <td>10:36:33</td>     <th>  Log-Likelihood:    </th> <td> -506.28</td>\n",
       "</tr>\n",
       "<tr>\n",
       "  <th>No. Observations:</th>      <td>    49</td>      <th>  AIC:               </th> <td>   1021.</td>\n",
       "</tr>\n",
       "<tr>\n",
       "  <th>Df Residuals:</th>          <td>    45</td>      <th>  BIC:               </th> <td>   1028.</td>\n",
       "</tr>\n",
       "<tr>\n",
       "  <th>Df Model:</th>              <td>     3</td>      <th>                     </th>     <td> </td>   \n",
       "</tr>\n",
       "<tr>\n",
       "  <th>Covariance Type:</th>      <td>nonrobust</td>    <th>                     </th>     <td> </td>   \n",
       "</tr>\n",
       "</table>\n",
       "<table class=\"simpletable\">\n",
       "<tr>\n",
       "      <td></td>         <th>coef</th>     <th>std err</th>      <th>t</th>      <th>P>|t|</th>  <th>[0.025</th>    <th>0.975]</th>  \n",
       "</tr>\n",
       "<tr>\n",
       "  <th>Intercept</th> <td> 5.238e+04</td> <td> 5542.657</td> <td>    9.451</td> <td> 0.000</td> <td> 4.12e+04</td> <td> 6.35e+04</td>\n",
       "</tr>\n",
       "<tr>\n",
       "  <th>RnD</th>       <td>    0.7830</td> <td>    0.038</td> <td>   20.470</td> <td> 0.000</td> <td>    0.706</td> <td>    0.860</td>\n",
       "</tr>\n",
       "<tr>\n",
       "  <th>Admin</th>     <td>   -0.0222</td> <td>    0.043</td> <td>   -0.518</td> <td> 0.607</td> <td>   -0.109</td> <td>    0.064</td>\n",
       "</tr>\n",
       "<tr>\n",
       "  <th>Marketing</th> <td>    0.0252</td> <td>    0.014</td> <td>    1.825</td> <td> 0.075</td> <td>   -0.003</td> <td>    0.053</td>\n",
       "</tr>\n",
       "</table>\n",
       "<table class=\"simpletable\">\n",
       "<tr>\n",
       "  <th>Omnibus:</th>       <td> 0.082</td> <th>  Durbin-Watson:     </th> <td>   1.598</td>\n",
       "</tr>\n",
       "<tr>\n",
       "  <th>Prob(Omnibus):</th> <td> 0.960</td> <th>  Jarque-Bera (JB):  </th> <td>   0.232</td>\n",
       "</tr>\n",
       "<tr>\n",
       "  <th>Skew:</th>          <td>-0.082</td> <th>  Prob(JB):          </th> <td>   0.890</td>\n",
       "</tr>\n",
       "<tr>\n",
       "  <th>Kurtosis:</th>      <td> 2.706</td> <th>  Cond. No.          </th> <td>1.41e+06</td>\n",
       "</tr>\n",
       "</table><br/><br/>Notes:<br/>[1] Standard Errors assume that the covariance matrix of the errors is correctly specified.<br/>[2] The condition number is large, 1.41e+06. This might indicate that there are<br/>strong multicollinearity or other numerical problems."
      ],
      "text/plain": [
       "<class 'statsmodels.iolib.summary.Summary'>\n",
       "\"\"\"\n",
       "                            OLS Regression Results                            \n",
       "==============================================================================\n",
       "Dep. Variable:                 Profit   R-squared:                       0.961\n",
       "Model:                            OLS   Adj. R-squared:                  0.959\n",
       "Method:                 Least Squares   F-statistic:                     372.8\n",
       "Date:                Wed, 29 Mar 2023   Prob (F-statistic):           8.85e-32\n",
       "Time:                        10:36:33   Log-Likelihood:                -506.28\n",
       "No. Observations:                  49   AIC:                             1021.\n",
       "Df Residuals:                      45   BIC:                             1028.\n",
       "Df Model:                           3                                         \n",
       "Covariance Type:            nonrobust                                         \n",
       "==============================================================================\n",
       "                 coef    std err          t      P>|t|      [0.025      0.975]\n",
       "------------------------------------------------------------------------------\n",
       "Intercept   5.238e+04   5542.657      9.451      0.000    4.12e+04    6.35e+04\n",
       "RnD            0.7830      0.038     20.470      0.000       0.706       0.860\n",
       "Admin         -0.0222      0.043     -0.518      0.607      -0.109       0.064\n",
       "Marketing      0.0252      0.014      1.825      0.075      -0.003       0.053\n",
       "==============================================================================\n",
       "Omnibus:                        0.082   Durbin-Watson:                   1.598\n",
       "Prob(Omnibus):                  0.960   Jarque-Bera (JB):                0.232\n",
       "Skew:                          -0.082   Prob(JB):                        0.890\n",
       "Kurtosis:                       2.706   Cond. No.                     1.41e+06\n",
       "==============================================================================\n",
       "\n",
       "Notes:\n",
       "[1] Standard Errors assume that the covariance matrix of the errors is correctly specified.\n",
       "[2] The condition number is large, 1.41e+06. This might indicate that there are\n",
       "strong multicollinearity or other numerical problems.\n",
       "\"\"\""
      ]
     },
     "execution_count": 71,
     "metadata": {},
     "output_type": "execute_result"
    }
   ],
   "source": [
    "model_after_removing_outlier = smf.ols(\"Profit~RnD+Admin+Marketing\", data = data2).fit()\n",
    "# Finding rsquared values\n",
    "model_after_removing_outlier.summary()"
   ]
  },
  {
   "cell_type": "code",
   "execution_count": 73,
   "id": "51934dd1",
   "metadata": {},
   "outputs": [
    {
     "data": {
      "image/png": "[encoded data removed]",
      "text/plain": [
       "<Figure size 576x576 with 1 Axes>"
      ]
     },
     "metadata": {
      "needs_background": "light"
     },
     "output_type": "display_data"
    },
    {
     "data": {
      "image/png": "[encoded data removed]",
      "text/plain": [
       "<Figure size 576x576 with 1 Axes>"
      ]
     },
     "metadata": {
      "needs_background": "light"
     },
     "output_type": "display_data"
    },
    {
     "data": {
      "image/png": "[encoded data removed]",
      "text/plain": [
       "<Figure size 576x576 with 1 Axes>"
      ]
     },
     "metadata": {
      "needs_background": "light"
     },
     "output_type": "display_data"
    },
    {
     "data": {
      "image/png": "[encoded data removed]",
      "text/plain": [
       "<Figure size 576x576 with 1 Axes>"
      ]
     },
     "metadata": {
      "needs_background": "light"
     },
     "output_type": "display_data"
    }
   ],
   "source": [
    "import statsmodels.api as smf\n",
    "smf.qqplot(data2['RnD'], line ='r')\n",
    "plt.title('RnD before transformation')\n",
    "smf.qqplot(data2['Admin'], line ='r')\n",
    "plt.title('Admin before transformation')\n",
    "smf.qqplot(data2['Marketing'], line ='r')\n",
    "plt.title('Marketing before transformation')\n",
    "smf.qqplot(data2['Profit'], line ='r')\n",
    "plt.title('Profit before transformation')\n",
    "plt.show()"
   ]
  },
  {
   "cell_type": "code",
   "execution_count": 78,
   "id": "81d24630",
   "metadata": {},
   "outputs": [
    {
     "data": {
      "image/png": "[encoded data removed]",
      "text/plain": [
       "<Figure size 648x360 with 1 Axes>"
      ]
     },
     "metadata": {},
     "output_type": "display_data"
    }
   ],
   "source": [
    "plt.figure(figsize = (9,5))\n",
    "labels = ['New York','California','Florida']\n",
    "colors = ['purple','blue','red']\n",
    "explode = (0.1,0,0)\n",
    "plt.pie(x = data2['State'].value_counts(),labels = labels, explode = explode, colors = colors, autopct='%1.1f%%', shadow = True)\n",
    "plt.axis('equal')\n",
    "plt.show()"
   ]
  },
  {
   "cell_type": "markdown",
   "id": "b5d76cfa",
   "metadata": {},
   "source": [
    "New York has occured the most than the others in the State Feature"
   ]
  },
  {
   "cell_type": "code",
   "execution_count": 93,
   "id": "ad084dc9",
   "metadata": {},
   "outputs": [
    {
     "data": {
      "text/plain": [
       "New York      17\n",
       "Florida       16\n",
       "California    16\n",
       "Name: State, dtype: int64"
      ]
     },
     "execution_count": 93,
     "metadata": {},
     "output_type": "execute_result"
    }
   ],
   "source": [
    "data2.State.value_counts()"
   ]
  },
  {
   "cell_type": "markdown",
   "id": "bd386d1d",
   "metadata": {},
   "source": [
    " The Categorical State Feature has balanced data all the unique values are approximately equally distributed\n",
    "\n",
    "Visualizing the Relation between each Independent Feature with respect to the Dependent Feature"
   ]
  },
  {
   "cell_type": "code",
   "execution_count": 80,
   "id": "ad3db07f",
   "metadata": {},
   "outputs": [
    {
     "data": {
      "image/png": "[encoded data removed]",
      "text/plain": [
       "<Figure size 648x432 with 2 Axes>"
      ]
     },
     "metadata": {
      "needs_background": "light"
     },
     "output_type": "display_data"
    }
   ],
   "source": [
    "plt.figure(figsize = (9,6))\n",
    "plt.scatter(x = data2['RnD'], y = data2['Profit'], c = data2['Profit'],cmap = 'autumn')\n",
    "plt.title('RnD')\n",
    "plt.colorbar()\n",
    "plt.show()"
   ]
  },
  {
   "cell_type": "code",
   "execution_count": 81,
   "id": "2cb18c9b",
   "metadata": {},
   "outputs": [
    {
     "data": {
      "image/png": "[encoded data removed]",
      "text/plain": [
       "<Figure size 648x432 with 2 Axes>"
      ]
     },
     "metadata": {
      "needs_background": "light"
     },
     "output_type": "display_data"
    }
   ],
   "source": [
    "plt.figure(figsize = (9,6))\n",
    "plt.scatter(x = data2['Admin'], y = data2['Profit'], c = data2['Profit'],cmap = 'autumn')\n",
    "plt.title('Admin')\n",
    "plt.colorbar()\n",
    "plt.show()"
   ]
  },
  {
   "cell_type": "code",
   "execution_count": 82,
   "id": "6a23a5e1",
   "metadata": {},
   "outputs": [
    {
     "data": {
      "image/png": "[encoded data removed]",
      "text/plain": [
       "<Figure size 648x432 with 2 Axes>"
      ]
     },
     "metadata": {
      "needs_background": "light"
     },
     "output_type": "display_data"
    }
   ],
   "source": [
    "plt.figure(figsize = (9,6))\n",
    "plt.scatter(x = data2['Marketing'], y = data2['Profit'], c = data2['Profit'],cmap = 'autumn')\n",
    "plt.title('Marketing')\n",
    "plt.colorbar()\n",
    "plt.show()"
   ]
  },
  {
   "cell_type": "markdown",
   "id": "42b90720",
   "metadata": {},
   "source": [
    " RnD feature has a good linear relation with Profit as compare to other features"
   ]
  },
  {
   "cell_type": "code",
   "execution_count": 88,
   "id": "5fa55a55",
   "metadata": {},
   "outputs": [],
   "source": [
    "x = \"State\"\n",
    "y = \"Profit\""
   ]
  },
  {
   "cell_type": "code",
   "execution_count": 97,
   "id": "2ad3c27d",
   "metadata": {},
   "outputs": [
    {
     "data": {
      "text/plain": [
       "<AxesSubplot:xlabel='State', ylabel='Profit'>"
      ]
     },
     "execution_count": 97,
     "metadata": {},
     "output_type": "execute_result"
    },
    {
     "data": {
      "image/png": "[encoded data removed]",
      "text/plain": [
       "<Figure size 648x432 with 1 Axes>"
      ]
     },
     "metadata": {
      "needs_background": "light"
     },
     "output_type": "display_data"
    }
   ],
   "source": [
    "plt.figure(figsize =(9,6))\n",
    "sns.barplot(x = \"State\", y = \"Profit\", data = data2)\n"
   ]
  },
  {
   "cell_type": "markdown",
   "id": "36b039e6",
   "metadata": {},
   "source": [
    "Observation:There is'nt much of difference between how much profit each state generates from each other and there is'nt any direct relation\n",
    "\n",
    "\n",
    "\n",
    "We are going to drop this feature while building model as it is an irrelevant feature for our inferences"
   ]
  },
  {
   "cell_type": "code",
   "execution_count": 99,
   "id": "d9b9ab4b",
   "metadata": {},
   "outputs": [
    {
     "data": {
      "text/html": [
       "<div>\n",
       "<style scoped>\n",
       "    .dataframe tbody tr th:only-of-type {\n",
       "        vertical-align: middle;\n",
       "    }\n",
       "\n",
       "    .dataframe tbody tr th {\n",
       "        vertical-align: top;\n",
       "    }\n",
       "\n",
       "    .dataframe thead th {\n",
       "        text-align: right;\n",
       "    }\n",
       "</style>\n",
       "<table border=\"1\" class=\"dataframe\">\n",
       "  <thead>\n",
       "    <tr style=\"text-align: right;\">\n",
       "      <th></th>\n",
       "      <th>RnD</th>\n",
       "      <th>Admin</th>\n",
       "      <th>Marketing</th>\n",
       "      <th>Profit</th>\n",
       "    </tr>\n",
       "  </thead>\n",
       "  <tbody>\n",
       "    <tr>\n",
       "      <th>0</th>\n",
       "      <td>165349.20</td>\n",
       "      <td>136897.80</td>\n",
       "      <td>471784.10</td>\n",
       "      <td>192261.83</td>\n",
       "    </tr>\n",
       "    <tr>\n",
       "      <th>1</th>\n",
       "      <td>162597.70</td>\n",
       "      <td>151377.59</td>\n",
       "      <td>443898.53</td>\n",
       "      <td>191792.06</td>\n",
       "    </tr>\n",
       "    <tr>\n",
       "      <th>2</th>\n",
       "      <td>153441.51</td>\n",
       "      <td>101145.55</td>\n",
       "      <td>407934.54</td>\n",
       "      <td>191050.39</td>\n",
       "    </tr>\n",
       "    <tr>\n",
       "      <th>3</th>\n",
       "      <td>144372.41</td>\n",
       "      <td>118671.85</td>\n",
       "      <td>383199.62</td>\n",
       "      <td>182901.99</td>\n",
       "    </tr>\n",
       "    <tr>\n",
       "      <th>4</th>\n",
       "      <td>142107.34</td>\n",
       "      <td>91391.77</td>\n",
       "      <td>366168.42</td>\n",
       "      <td>166187.94</td>\n",
       "    </tr>\n",
       "  </tbody>\n",
       "</table>\n",
       "</div>"
      ],
      "text/plain": [
       "         RnD      Admin  Marketing     Profit\n",
       "0  165349.20  136897.80  471784.10  192261.83\n",
       "1  162597.70  151377.59  443898.53  191792.06\n",
       "2  153441.51  101145.55  407934.54  191050.39\n",
       "3  144372.41  118671.85  383199.62  182901.99\n",
       "4  142107.34   91391.77  366168.42  166187.94"
      ]
     },
     "execution_count": 99,
     "metadata": {},
     "output_type": "execute_result"
    }
   ],
   "source": [
    "data3 = data2.copy()\n",
    "data3 = data3.drop('State', axis = 1)\n",
    "data3.head()"
   ]
  },
  {
   "cell_type": "code",
   "execution_count": 100,
   "id": "8aef3808",
   "metadata": {},
   "outputs": [
    {
     "data": {
      "text/html": [
       "<div>\n",
       "<style scoped>\n",
       "    .dataframe tbody tr th:only-of-type {\n",
       "        vertical-align: middle;\n",
       "    }\n",
       "\n",
       "    .dataframe tbody tr th {\n",
       "        vertical-align: top;\n",
       "    }\n",
       "\n",
       "    .dataframe thead th {\n",
       "        text-align: right;\n",
       "    }\n",
       "</style>\n",
       "<table border=\"1\" class=\"dataframe\">\n",
       "  <thead>\n",
       "    <tr style=\"text-align: right;\">\n",
       "      <th></th>\n",
       "      <th>RnD</th>\n",
       "      <th>Admin</th>\n",
       "      <th>Marketing</th>\n",
       "      <th>Profit</th>\n",
       "    </tr>\n",
       "  </thead>\n",
       "  <tbody>\n",
       "    <tr>\n",
       "      <th>RnD</th>\n",
       "      <td>1.000000</td>\n",
       "      <td>0.243438</td>\n",
       "      <td>0.711654</td>\n",
       "      <td>0.978437</td>\n",
       "    </tr>\n",
       "    <tr>\n",
       "      <th>Admin</th>\n",
       "      <td>0.243438</td>\n",
       "      <td>1.000000</td>\n",
       "      <td>-0.037280</td>\n",
       "      <td>0.205841</td>\n",
       "    </tr>\n",
       "    <tr>\n",
       "      <th>Marketing</th>\n",
       "      <td>0.711654</td>\n",
       "      <td>-0.037280</td>\n",
       "      <td>1.000000</td>\n",
       "      <td>0.739307</td>\n",
       "    </tr>\n",
       "    <tr>\n",
       "      <th>Profit</th>\n",
       "      <td>0.978437</td>\n",
       "      <td>0.205841</td>\n",
       "      <td>0.739307</td>\n",
       "      <td>1.000000</td>\n",
       "    </tr>\n",
       "  </tbody>\n",
       "</table>\n",
       "</div>"
      ],
      "text/plain": [
       "                RnD     Admin  Marketing    Profit\n",
       "RnD        1.000000  0.243438   0.711654  0.978437\n",
       "Admin      0.243438  1.000000  -0.037280  0.205841\n",
       "Marketing  0.711654 -0.037280   1.000000  0.739307\n",
       "Profit     0.978437  0.205841   0.739307  1.000000"
      ]
     },
     "execution_count": 100,
     "metadata": {},
     "output_type": "execute_result"
    }
   ],
   "source": [
    "data3.corr()"
   ]
  },
  {
   "cell_type": "markdown",
   "id": "7e40d7be",
   "metadata": {},
   "source": [
    "Feature Engineering\n",
    "\n",
    "Applying some Data Transformation to increase the linear realtionship and improve our model prediction as well it scores\n",
    "Applying Standard Scaler"
   ]
  },
  {
   "cell_type": "code",
   "execution_count": 101,
   "id": "521c10d9",
   "metadata": {},
   "outputs": [],
   "source": [
    "from sklearn.preprocessing import StandardScaler"
   ]
  },
  {
   "cell_type": "code",
   "execution_count": 102,
   "id": "11c1f646",
   "metadata": {},
   "outputs": [
    {
     "data": {
      "text/html": [
       "<div>\n",
       "<style scoped>\n",
       "    .dataframe tbody tr th:only-of-type {\n",
       "        vertical-align: middle;\n",
       "    }\n",
       "\n",
       "    .dataframe tbody tr th {\n",
       "        vertical-align: top;\n",
       "    }\n",
       "\n",
       "    .dataframe thead th {\n",
       "        text-align: right;\n",
       "    }\n",
       "</style>\n",
       "<table border=\"1\" class=\"dataframe\">\n",
       "  <thead>\n",
       "    <tr style=\"text-align: right;\">\n",
       "      <th></th>\n",
       "      <th>RnD</th>\n",
       "      <th>Admin</th>\n",
       "      <th>Marketing</th>\n",
       "      <th>Profit</th>\n",
       "    </tr>\n",
       "  </thead>\n",
       "  <tbody>\n",
       "    <tr>\n",
       "      <th>0</th>\n",
       "      <td>2.018325</td>\n",
       "      <td>0.552080</td>\n",
       "      <td>2.146120</td>\n",
       "      <td>2.071556</td>\n",
       "    </tr>\n",
       "    <tr>\n",
       "      <th>1</th>\n",
       "      <td>1.956704</td>\n",
       "      <td>1.069017</td>\n",
       "      <td>1.913596</td>\n",
       "      <td>2.059122</td>\n",
       "    </tr>\n",
       "    <tr>\n",
       "      <th>2</th>\n",
       "      <td>1.751650</td>\n",
       "      <td>-0.724297</td>\n",
       "      <td>1.613709</td>\n",
       "      <td>2.039490</td>\n",
       "    </tr>\n",
       "    <tr>\n",
       "      <th>3</th>\n",
       "      <td>1.548545</td>\n",
       "      <td>-0.098597</td>\n",
       "      <td>1.407457</td>\n",
       "      <td>1.823808</td>\n",
       "    </tr>\n",
       "    <tr>\n",
       "      <th>4</th>\n",
       "      <td>1.497818</td>\n",
       "      <td>-1.072513</td>\n",
       "      <td>1.265442</td>\n",
       "      <td>1.381401</td>\n",
       "    </tr>\n",
       "  </tbody>\n",
       "</table>\n",
       "</div>"
      ],
      "text/plain": [
       "        RnD     Admin  Marketing    Profit\n",
       "0  2.018325  0.552080   2.146120  2.071556\n",
       "1  1.956704  1.069017   1.913596  2.059122\n",
       "2  1.751650 -0.724297   1.613709  2.039490\n",
       "3  1.548545 -0.098597   1.407457  1.823808\n",
       "4  1.497818 -1.072513   1.265442  1.381401"
      ]
     },
     "execution_count": 102,
     "metadata": {},
     "output_type": "execute_result"
    }
   ],
   "source": [
    "scaler = StandardScaler()\n",
    "scaled_features = scaler.fit_transform(data3.values)\n",
    "scaled_features_df = pd.DataFrame(scaled_features, index = data3.index, columns = data3.columns)\n",
    "scaled_features_df.head()"
   ]
  },
  {
   "cell_type": "markdown",
   "id": "3c726710",
   "metadata": {},
   "source": [
    "Now if we check the mean and standard deviation of our scaled data it should have a Mean '0' and Standard deviation '1'"
   ]
  },
  {
   "cell_type": "code",
   "execution_count": 103,
   "id": "87f3615f",
   "metadata": {},
   "outputs": [
    {
     "name": "stdout",
     "output_type": "stream",
     "text": [
      "RnD          0.0\n",
      "Admin       -0.0\n",
      "Marketing   -0.0\n",
      "Profit      -0.0\n",
      "dtype: float64 \n",
      " RnD          1.0\n",
      "Admin        1.0\n",
      "Marketing    1.0\n",
      "Profit       1.0\n",
      "dtype: float64\n"
     ]
    }
   ],
   "source": [
    "print(np.round(scaled_features_df.mean(),1),'\\n',(np.round(scaled_features_df.std(),1)))"
   ]
  },
  {
   "cell_type": "code",
   "execution_count": 105,
   "id": "08cb8812",
   "metadata": {},
   "outputs": [
    {
     "data": {
      "text/html": [
       "<table class=\"simpletable\">\n",
       "<caption>OLS Regression Results</caption>\n",
       "<tr>\n",
       "  <th>Dep. Variable:</th>         <td>Profit</td>      <th>  R-squared:         </th> <td>   0.961</td>\n",
       "</tr>\n",
       "<tr>\n",
       "  <th>Model:</th>                   <td>OLS</td>       <th>  Adj. R-squared:    </th> <td>   0.959</td>\n",
       "</tr>\n",
       "<tr>\n",
       "  <th>Method:</th>             <td>Least Squares</td>  <th>  F-statistic:       </th> <td>   372.8</td>\n",
       "</tr>\n",
       "<tr>\n",
       "  <th>Date:</th>             <td>Wed, 29 Mar 2023</td> <th>  Prob (F-statistic):</th> <td>8.85e-32</td>\n",
       "</tr>\n",
       "<tr>\n",
       "  <th>Time:</th>                 <td>10:51:24</td>     <th>  Log-Likelihood:    </th> <td>  10.154</td>\n",
       "</tr>\n",
       "<tr>\n",
       "  <th>No. Observations:</th>      <td>    49</td>      <th>  AIC:               </th> <td>  -12.31</td>\n",
       "</tr>\n",
       "<tr>\n",
       "  <th>Df Residuals:</th>          <td>    45</td>      <th>  BIC:               </th> <td>  -4.741</td>\n",
       "</tr>\n",
       "<tr>\n",
       "  <th>Df Model:</th>              <td>     3</td>      <th>                     </th>     <td> </td>   \n",
       "</tr>\n",
       "<tr>\n",
       "  <th>Covariance Type:</th>      <td>nonrobust</td>    <th>                     </th>     <td> </td>   \n",
       "</tr>\n",
       "</table>\n",
       "<table class=\"simpletable\">\n",
       "<tr>\n",
       "      <td></td>         <th>coef</th>     <th>std err</th>      <th>t</th>      <th>P>|t|</th>  <th>[0.025</th>    <th>0.975]</th>  \n",
       "</tr>\n",
       "<tr>\n",
       "  <th>Intercept</th> <td>-1.527e-16</td> <td>    0.029</td> <td>-5.21e-15</td> <td> 1.000</td> <td>   -0.059</td> <td>    0.059</td>\n",
       "</tr>\n",
       "<tr>\n",
       "  <th>RnD</th>       <td>    0.9254</td> <td>    0.045</td> <td>   20.470</td> <td> 0.000</td> <td>    0.834</td> <td>    1.017</td>\n",
       "</tr>\n",
       "<tr>\n",
       "  <th>Admin</th>     <td>   -0.0165</td> <td>    0.032</td> <td>   -0.518</td> <td> 0.607</td> <td>   -0.080</td> <td>    0.048</td>\n",
       "</tr>\n",
       "<tr>\n",
       "  <th>Marketing</th> <td>    0.0801</td> <td>    0.044</td> <td>    1.825</td> <td> 0.075</td> <td>   -0.008</td> <td>    0.168</td>\n",
       "</tr>\n",
       "</table>\n",
       "<table class=\"simpletable\">\n",
       "<tr>\n",
       "  <th>Omnibus:</th>       <td> 0.082</td> <th>  Durbin-Watson:     </th> <td>   1.598</td>\n",
       "</tr>\n",
       "<tr>\n",
       "  <th>Prob(Omnibus):</th> <td> 0.960</td> <th>  Jarque-Bera (JB):  </th> <td>   0.232</td>\n",
       "</tr>\n",
       "<tr>\n",
       "  <th>Skew:</th>          <td>-0.082</td> <th>  Prob(JB):          </th> <td>   0.890</td>\n",
       "</tr>\n",
       "<tr>\n",
       "  <th>Kurtosis:</th>      <td> 2.706</td> <th>  Cond. No.          </th> <td>    2.72</td>\n",
       "</tr>\n",
       "</table><br/><br/>Notes:<br/>[1] Standard Errors assume that the covariance matrix of the errors is correctly specified."
      ],
      "text/plain": [
       "<class 'statsmodels.iolib.summary.Summary'>\n",
       "\"\"\"\n",
       "                            OLS Regression Results                            \n",
       "==============================================================================\n",
       "Dep. Variable:                 Profit   R-squared:                       0.961\n",
       "Model:                            OLS   Adj. R-squared:                  0.959\n",
       "Method:                 Least Squares   F-statistic:                     372.8\n",
       "Date:                Wed, 29 Mar 2023   Prob (F-statistic):           8.85e-32\n",
       "Time:                        10:51:24   Log-Likelihood:                 10.154\n",
       "No. Observations:                  49   AIC:                            -12.31\n",
       "Df Residuals:                      45   BIC:                            -4.741\n",
       "Df Model:                           3                                         \n",
       "Covariance Type:            nonrobust                                         \n",
       "==============================================================================\n",
       "                 coef    std err          t      P>|t|      [0.025      0.975]\n",
       "------------------------------------------------------------------------------\n",
       "Intercept  -1.527e-16      0.029  -5.21e-15      1.000      -0.059       0.059\n",
       "RnD            0.9254      0.045     20.470      0.000       0.834       1.017\n",
       "Admin         -0.0165      0.032     -0.518      0.607      -0.080       0.048\n",
       "Marketing      0.0801      0.044      1.825      0.075      -0.008       0.168\n",
       "==============================================================================\n",
       "Omnibus:                        0.082   Durbin-Watson:                   1.598\n",
       "Prob(Omnibus):                  0.960   Jarque-Bera (JB):                0.232\n",
       "Skew:                          -0.082   Prob(JB):                        0.890\n",
       "Kurtosis:                       2.706   Cond. No.                         2.72\n",
       "==============================================================================\n",
       "\n",
       "Notes:\n",
       "[1] Standard Errors assume that the covariance matrix of the errors is correctly specified.\n",
       "\"\"\""
      ]
     },
     "execution_count": 105,
     "metadata": {},
     "output_type": "execute_result"
    }
   ],
   "source": [
    "model = smf.ols(\"Profit~RnD+Admin+Marketing\", data = scaled_features_df).fit()\n",
    "model.summary()"
   ]
  },
  {
   "cell_type": "markdown",
   "id": "e660a7b4",
   "metadata": {},
   "source": [
    "Model Testing\n",
    "\n",
    "\n",
    "\n",
    "As ŷ = β0 + β1(x1) + β2(x2) + β3(x3) + … + βk(xk)"
   ]
  },
  {
   "cell_type": "code",
   "execution_count": 106,
   "id": "108fa805",
   "metadata": {},
   "outputs": [
    {
     "data": {
      "text/plain": [
       "Intercept   -1.526557e-16\n",
       "RnD          9.254411e-01\n",
       "Admin       -1.646059e-02\n",
       "Marketing    8.009988e-02\n",
       "dtype: float64"
      ]
     },
     "execution_count": 106,
     "metadata": {},
     "output_type": "execute_result"
    }
   ],
   "source": [
    "# Getting Coefficient Parameters\n",
    "model.params"
   ]
  },
  {
   "cell_type": "markdown",
   "id": "dd0e3eb7",
   "metadata": {},
   "source": [
    "Assupmtion for multi linear Regression fails\n",
    "\n",
    "Feature should be independent of each other, there should'nt be any dependency upon each other"
   ]
  },
  {
   "cell_type": "code",
   "execution_count": 107,
   "id": "c0183807",
   "metadata": {},
   "outputs": [
    {
     "data": {
      "text/plain": [
       "Intercept    -0.000\n",
       "RnD          20.470\n",
       "Admin        -0.518\n",
       "Marketing     1.825\n",
       "dtype: float64"
      ]
     },
     "metadata": {},
     "output_type": "display_data"
    },
    {
     "data": {
      "text/plain": [
       "Intercept    1.000\n",
       "RnD          0.000\n",
       "Admin        0.607\n",
       "Marketing    0.075\n",
       "dtype: float64"
      ]
     },
     "metadata": {},
     "output_type": "display_data"
    }
   ],
   "source": [
    "#Getting tvalues and pvalues\n",
    "display(np.round(model.tvalues,3), np.round(model.pvalues,3))"
   ]
  },
  {
   "cell_type": "markdown",
   "id": "0cfeee72",
   "metadata": {},
   "source": [
    "Let's first compare models by their R-Squared and p_values."
   ]
  },
  {
   "cell_type": "code",
   "execution_count": 108,
   "id": "f2d70595",
   "metadata": {},
   "outputs": [
    {
     "data": {
      "text/html": [
       "<table class=\"simpletable\">\n",
       "<caption>OLS Regression Results</caption>\n",
       "<tr>\n",
       "  <th>Dep. Variable:</th>         <td>Profit</td>      <th>  R-squared:         </th> <td>   0.042</td>\n",
       "</tr>\n",
       "<tr>\n",
       "  <th>Model:</th>                   <td>OLS</td>       <th>  Adj. R-squared:    </th> <td>   0.022</td>\n",
       "</tr>\n",
       "<tr>\n",
       "  <th>Method:</th>             <td>Least Squares</td>  <th>  F-statistic:       </th> <td>   2.080</td>\n",
       "</tr>\n",
       "<tr>\n",
       "  <th>Date:</th>             <td>Wed, 29 Mar 2023</td> <th>  Prob (F-statistic):</th>  <td> 0.156</td> \n",
       "</tr>\n",
       "<tr>\n",
       "  <th>Time:</th>                 <td>10:53:19</td>     <th>  Log-Likelihood:    </th> <td> -68.467</td>\n",
       "</tr>\n",
       "<tr>\n",
       "  <th>No. Observations:</th>      <td>    49</td>      <th>  AIC:               </th> <td>   140.9</td>\n",
       "</tr>\n",
       "<tr>\n",
       "  <th>Df Residuals:</th>          <td>    47</td>      <th>  BIC:               </th> <td>   144.7</td>\n",
       "</tr>\n",
       "<tr>\n",
       "  <th>Df Model:</th>              <td>     1</td>      <th>                     </th>     <td> </td>   \n",
       "</tr>\n",
       "<tr>\n",
       "  <th>Covariance Type:</th>      <td>nonrobust</td>    <th>                     </th>     <td> </td>   \n",
       "</tr>\n",
       "</table>\n",
       "<table class=\"simpletable\">\n",
       "<tr>\n",
       "      <td></td>         <th>coef</th>     <th>std err</th>      <th>t</th>      <th>P>|t|</th>  <th>[0.025</th>    <th>0.975]</th>  \n",
       "</tr>\n",
       "<tr>\n",
       "  <th>Intercept</th> <td>-1.665e-16</td> <td>    0.143</td> <td>-1.17e-15</td> <td> 1.000</td> <td>   -0.287</td> <td>    0.287</td>\n",
       "</tr>\n",
       "<tr>\n",
       "  <th>Admin</th>     <td>    0.2058</td> <td>    0.143</td> <td>    1.442</td> <td> 0.156</td> <td>   -0.081</td> <td>    0.493</td>\n",
       "</tr>\n",
       "</table>\n",
       "<table class=\"simpletable\">\n",
       "<tr>\n",
       "  <th>Omnibus:</th>       <td> 1.016</td> <th>  Durbin-Watson:     </th> <td>   0.084</td>\n",
       "</tr>\n",
       "<tr>\n",
       "  <th>Prob(Omnibus):</th> <td> 0.602</td> <th>  Jarque-Bera (JB):  </th> <td>   1.052</td>\n",
       "</tr>\n",
       "<tr>\n",
       "  <th>Skew:</th>          <td> 0.310</td> <th>  Prob(JB):          </th> <td>   0.591</td>\n",
       "</tr>\n",
       "<tr>\n",
       "  <th>Kurtosis:</th>      <td> 2.639</td> <th>  Cond. No.          </th> <td>    1.00</td>\n",
       "</tr>\n",
       "</table><br/><br/>Notes:<br/>[1] Standard Errors assume that the covariance matrix of the errors is correctly specified."
      ],
      "text/plain": [
       "<class 'statsmodels.iolib.summary.Summary'>\n",
       "\"\"\"\n",
       "                            OLS Regression Results                            \n",
       "==============================================================================\n",
       "Dep. Variable:                 Profit   R-squared:                       0.042\n",
       "Model:                            OLS   Adj. R-squared:                  0.022\n",
       "Method:                 Least Squares   F-statistic:                     2.080\n",
       "Date:                Wed, 29 Mar 2023   Prob (F-statistic):              0.156\n",
       "Time:                        10:53:19   Log-Likelihood:                -68.467\n",
       "No. Observations:                  49   AIC:                             140.9\n",
       "Df Residuals:                      47   BIC:                             144.7\n",
       "Df Model:                           1                                         \n",
       "Covariance Type:            nonrobust                                         \n",
       "==============================================================================\n",
       "                 coef    std err          t      P>|t|      [0.025      0.975]\n",
       "------------------------------------------------------------------------------\n",
       "Intercept  -1.665e-16      0.143  -1.17e-15      1.000      -0.287       0.287\n",
       "Admin          0.2058      0.143      1.442      0.156      -0.081       0.493\n",
       "==============================================================================\n",
       "Omnibus:                        1.016   Durbin-Watson:                   0.084\n",
       "Prob(Omnibus):                  0.602   Jarque-Bera (JB):                1.052\n",
       "Skew:                           0.310   Prob(JB):                        0.591\n",
       "Kurtosis:                       2.639   Cond. No.                         1.00\n",
       "==============================================================================\n",
       "\n",
       "Notes:\n",
       "[1] Standard Errors assume that the covariance matrix of the errors is correctly specified.\n",
       "\"\"\""
      ]
     },
     "execution_count": 108,
     "metadata": {},
     "output_type": "execute_result"
    }
   ],
   "source": [
    "model_admin = smf.ols(\"Profit~Admin\", data = scaled_features_df).fit()\n",
    "model_admin.summary()"
   ]
  },
  {
   "cell_type": "code",
   "execution_count": 109,
   "id": "02d5e44e",
   "metadata": {},
   "outputs": [
    {
     "data": {
      "text/plain": [
       "Intercept   -0.000\n",
       "Admin        1.442\n",
       "dtype: float64"
      ]
     },
     "metadata": {},
     "output_type": "display_data"
    },
    {
     "data": {
      "text/plain": [
       "Intercept    1.000\n",
       "Admin        0.156\n",
       "dtype: float64"
      ]
     },
     "metadata": {},
     "output_type": "display_data"
    }
   ],
   "source": [
    "display(np.round(model_admin.tvalues,3), np.round(model_admin.pvalues,3))"
   ]
  },
  {
   "cell_type": "code",
   "execution_count": 111,
   "id": "f0d7248b",
   "metadata": {},
   "outputs": [
    {
     "data": {
      "text/html": [
       "<table class=\"simpletable\">\n",
       "<caption>OLS Regression Results</caption>\n",
       "<tr>\n",
       "  <th>Dep. Variable:</th>         <td>Profit</td>      <th>  R-squared:         </th> <td>   0.547</td>\n",
       "</tr>\n",
       "<tr>\n",
       "  <th>Model:</th>                   <td>OLS</td>       <th>  Adj. R-squared:    </th> <td>   0.537</td>\n",
       "</tr>\n",
       "<tr>\n",
       "  <th>Method:</th>             <td>Least Squares</td>  <th>  F-statistic:       </th> <td>   56.66</td>\n",
       "</tr>\n",
       "<tr>\n",
       "  <th>Date:</th>             <td>Wed, 29 Mar 2023</td> <th>  Prob (F-statistic):</th> <td>1.30e-09</td>\n",
       "</tr>\n",
       "<tr>\n",
       "  <th>Time:</th>                 <td>10:53:51</td>     <th>  Log-Likelihood:    </th> <td> -50.150</td>\n",
       "</tr>\n",
       "<tr>\n",
       "  <th>No. Observations:</th>      <td>    49</td>      <th>  AIC:               </th> <td>   104.3</td>\n",
       "</tr>\n",
       "<tr>\n",
       "  <th>Df Residuals:</th>          <td>    47</td>      <th>  BIC:               </th> <td>   108.1</td>\n",
       "</tr>\n",
       "<tr>\n",
       "  <th>Df Model:</th>              <td>     1</td>      <th>                     </th>     <td> </td>   \n",
       "</tr>\n",
       "<tr>\n",
       "  <th>Covariance Type:</th>      <td>nonrobust</td>    <th>                     </th>     <td> </td>   \n",
       "</tr>\n",
       "</table>\n",
       "<table class=\"simpletable\">\n",
       "<tr>\n",
       "      <td></td>         <th>coef</th>     <th>std err</th>      <th>t</th>      <th>P>|t|</th>  <th>[0.025</th>    <th>0.975]</th>  \n",
       "</tr>\n",
       "<tr>\n",
       "  <th>Intercept</th> <td>-1.665e-16</td> <td>    0.098</td> <td> -1.7e-15</td> <td> 1.000</td> <td>   -0.198</td> <td>    0.198</td>\n",
       "</tr>\n",
       "<tr>\n",
       "  <th>Marketing</th> <td>    0.7393</td> <td>    0.098</td> <td>    7.527</td> <td> 0.000</td> <td>    0.542</td> <td>    0.937</td>\n",
       "</tr>\n",
       "</table>\n",
       "<table class=\"simpletable\">\n",
       "<tr>\n",
       "  <th>Omnibus:</th>       <td> 4.458</td> <th>  Durbin-Watson:     </th> <td>   1.140</td>\n",
       "</tr>\n",
       "<tr>\n",
       "  <th>Prob(Omnibus):</th> <td> 0.108</td> <th>  Jarque-Bera (JB):  </th> <td>   4.096</td>\n",
       "</tr>\n",
       "<tr>\n",
       "  <th>Skew:</th>          <td>-0.303</td> <th>  Prob(JB):          </th> <td>   0.129</td>\n",
       "</tr>\n",
       "<tr>\n",
       "  <th>Kurtosis:</th>      <td> 4.281</td> <th>  Cond. No.          </th> <td>    1.00</td>\n",
       "</tr>\n",
       "</table><br/><br/>Notes:<br/>[1] Standard Errors assume that the covariance matrix of the errors is correctly specified."
      ],
      "text/plain": [
       "<class 'statsmodels.iolib.summary.Summary'>\n",
       "\"\"\"\n",
       "                            OLS Regression Results                            \n",
       "==============================================================================\n",
       "Dep. Variable:                 Profit   R-squared:                       0.547\n",
       "Model:                            OLS   Adj. R-squared:                  0.537\n",
       "Method:                 Least Squares   F-statistic:                     56.66\n",
       "Date:                Wed, 29 Mar 2023   Prob (F-statistic):           1.30e-09\n",
       "Time:                        10:53:51   Log-Likelihood:                -50.150\n",
       "No. Observations:                  49   AIC:                             104.3\n",
       "Df Residuals:                      47   BIC:                             108.1\n",
       "Df Model:                           1                                         \n",
       "Covariance Type:            nonrobust                                         \n",
       "==============================================================================\n",
       "                 coef    std err          t      P>|t|      [0.025      0.975]\n",
       "------------------------------------------------------------------------------\n",
       "Intercept  -1.665e-16      0.098   -1.7e-15      1.000      -0.198       0.198\n",
       "Marketing      0.7393      0.098      7.527      0.000       0.542       0.937\n",
       "==============================================================================\n",
       "Omnibus:                        4.458   Durbin-Watson:                   1.140\n",
       "Prob(Omnibus):                  0.108   Jarque-Bera (JB):                4.096\n",
       "Skew:                          -0.303   Prob(JB):                        0.129\n",
       "Kurtosis:                       4.281   Cond. No.                         1.00\n",
       "==============================================================================\n",
       "\n",
       "Notes:\n",
       "[1] Standard Errors assume that the covariance matrix of the errors is correctly specified.\n",
       "\"\"\""
      ]
     },
     "execution_count": 111,
     "metadata": {},
     "output_type": "execute_result"
    }
   ],
   "source": [
    "model_marketing = smf.ols(\"Profit~Marketing\", data = scaled_features_df).fit()\n",
    "model_marketing.summary()"
   ]
  },
  {
   "cell_type": "code",
   "execution_count": 112,
   "id": "e5775d7c",
   "metadata": {},
   "outputs": [
    {
     "data": {
      "text/plain": [
       "Intercept   -0.000\n",
       "Marketing    7.527\n",
       "dtype: float64"
      ]
     },
     "metadata": {},
     "output_type": "display_data"
    },
    {
     "data": {
      "text/plain": [
       "Intercept    1.0\n",
       "Marketing    0.0\n",
       "dtype: float64"
      ]
     },
     "metadata": {},
     "output_type": "display_data"
    }
   ],
   "source": [
    "display(np.round(model_marketing.tvalues,3), np.round(model_marketing.pvalues,3))"
   ]
  },
  {
   "cell_type": "code",
   "execution_count": 114,
   "id": "88f1a9c0",
   "metadata": {},
   "outputs": [
    {
     "data": {
      "text/html": [
       "<table class=\"simpletable\">\n",
       "<caption>OLS Regression Results</caption>\n",
       "<tr>\n",
       "  <th>Dep. Variable:</th>         <td>Profit</td>      <th>  R-squared:         </th> <td>   0.601</td>\n",
       "</tr>\n",
       "<tr>\n",
       "  <th>Model:</th>                   <td>OLS</td>       <th>  Adj. R-squared:    </th> <td>   0.584</td>\n",
       "</tr>\n",
       "<tr>\n",
       "  <th>Method:</th>             <td>Least Squares</td>  <th>  F-statistic:       </th> <td>   34.66</td>\n",
       "</tr>\n",
       "<tr>\n",
       "  <th>Date:</th>             <td>Wed, 29 Mar 2023</td> <th>  Prob (F-statistic):</th> <td>6.59e-10</td>\n",
       "</tr>\n",
       "<tr>\n",
       "  <th>Time:</th>                 <td>10:54:21</td>     <th>  Log-Likelihood:    </th> <td> -47.010</td>\n",
       "</tr>\n",
       "<tr>\n",
       "  <th>No. Observations:</th>      <td>    49</td>      <th>  AIC:               </th> <td>   100.0</td>\n",
       "</tr>\n",
       "<tr>\n",
       "  <th>Df Residuals:</th>          <td>    46</td>      <th>  BIC:               </th> <td>   105.7</td>\n",
       "</tr>\n",
       "<tr>\n",
       "  <th>Df Model:</th>              <td>     2</td>      <th>                     </th>     <td> </td>   \n",
       "</tr>\n",
       "<tr>\n",
       "  <th>Covariance Type:</th>      <td>nonrobust</td>    <th>                     </th>     <td> </td>   \n",
       "</tr>\n",
       "</table>\n",
       "<table class=\"simpletable\">\n",
       "<tr>\n",
       "      <td></td>         <th>coef</th>     <th>std err</th>      <th>t</th>      <th>P>|t|</th>  <th>[0.025</th>    <th>0.975]</th>  \n",
       "</tr>\n",
       "<tr>\n",
       "  <th>Intercept</th> <td>-1.665e-16</td> <td>    0.093</td> <td>-1.79e-15</td> <td> 1.000</td> <td>   -0.187</td> <td>    0.187</td>\n",
       "</tr>\n",
       "<tr>\n",
       "  <th>Admin</th>     <td>    0.2337</td> <td>    0.093</td> <td>    2.508</td> <td> 0.016</td> <td>    0.046</td> <td>    0.421</td>\n",
       "</tr>\n",
       "<tr>\n",
       "  <th>Marketing</th> <td>    0.7480</td> <td>    0.093</td> <td>    8.027</td> <td> 0.000</td> <td>    0.560</td> <td>    0.936</td>\n",
       "</tr>\n",
       "</table>\n",
       "<table class=\"simpletable\">\n",
       "<tr>\n",
       "  <th>Omnibus:</th>       <td> 6.637</td> <th>  Durbin-Watson:     </th> <td>   1.193</td>\n",
       "</tr>\n",
       "<tr>\n",
       "  <th>Prob(Omnibus):</th> <td> 0.036</td> <th>  Jarque-Bera (JB):  </th> <td>   7.219</td>\n",
       "</tr>\n",
       "<tr>\n",
       "  <th>Skew:</th>          <td>-0.454</td> <th>  Prob(JB):          </th> <td>  0.0271</td>\n",
       "</tr>\n",
       "<tr>\n",
       "  <th>Kurtosis:</th>      <td> 4.646</td> <th>  Cond. No.          </th> <td>    1.04</td>\n",
       "</tr>\n",
       "</table><br/><br/>Notes:<br/>[1] Standard Errors assume that the covariance matrix of the errors is correctly specified."
      ],
      "text/plain": [
       "<class 'statsmodels.iolib.summary.Summary'>\n",
       "\"\"\"\n",
       "                            OLS Regression Results                            \n",
       "==============================================================================\n",
       "Dep. Variable:                 Profit   R-squared:                       0.601\n",
       "Model:                            OLS   Adj. R-squared:                  0.584\n",
       "Method:                 Least Squares   F-statistic:                     34.66\n",
       "Date:                Wed, 29 Mar 2023   Prob (F-statistic):           6.59e-10\n",
       "Time:                        10:54:21   Log-Likelihood:                -47.010\n",
       "No. Observations:                  49   AIC:                             100.0\n",
       "Df Residuals:                      46   BIC:                             105.7\n",
       "Df Model:                           2                                         \n",
       "Covariance Type:            nonrobust                                         \n",
       "==============================================================================\n",
       "                 coef    std err          t      P>|t|      [0.025      0.975]\n",
       "------------------------------------------------------------------------------\n",
       "Intercept  -1.665e-16      0.093  -1.79e-15      1.000      -0.187       0.187\n",
       "Admin          0.2337      0.093      2.508      0.016       0.046       0.421\n",
       "Marketing      0.7480      0.093      8.027      0.000       0.560       0.936\n",
       "==============================================================================\n",
       "Omnibus:                        6.637   Durbin-Watson:                   1.193\n",
       "Prob(Omnibus):                  0.036   Jarque-Bera (JB):                7.219\n",
       "Skew:                          -0.454   Prob(JB):                       0.0271\n",
       "Kurtosis:                       4.646   Cond. No.                         1.04\n",
       "==============================================================================\n",
       "\n",
       "Notes:\n",
       "[1] Standard Errors assume that the covariance matrix of the errors is correctly specified.\n",
       "\"\"\""
      ]
     },
     "execution_count": 114,
     "metadata": {},
     "output_type": "execute_result"
    }
   ],
   "source": [
    "model_admin_plus_marketing= smf.ols('Profit~Admin+Marketing', data =scaled_features_df).fit()\n",
    "# Finding rsquared values\n",
    "model_admin_plus_marketing.summary()"
   ]
  },
  {
   "cell_type": "code",
   "execution_count": 116,
   "id": "4d0a1023",
   "metadata": {},
   "outputs": [
    {
     "data": {
      "text/html": [
       "<table class=\"simpletable\">\n",
       "<caption>OLS Regression Results</caption>\n",
       "<tr>\n",
       "  <th>Dep. Variable:</th>         <td>Profit</td>      <th>  R-squared:         </th> <td>   0.958</td>\n",
       "</tr>\n",
       "<tr>\n",
       "  <th>Model:</th>                   <td>OLS</td>       <th>  Adj. R-squared:    </th> <td>   0.957</td>\n",
       "</tr>\n",
       "<tr>\n",
       "  <th>Method:</th>             <td>Least Squares</td>  <th>  F-statistic:       </th> <td>   530.6</td>\n",
       "</tr>\n",
       "<tr>\n",
       "  <th>Date:</th>             <td>Wed, 29 Mar 2023</td> <th>  Prob (F-statistic):</th> <td>1.69e-32</td>\n",
       "</tr>\n",
       "<tr>\n",
       "  <th>Time:</th>                 <td>10:56:16</td>     <th>  Log-Likelihood:    </th> <td>  8.4042</td>\n",
       "</tr>\n",
       "<tr>\n",
       "  <th>No. Observations:</th>      <td>    49</td>      <th>  AIC:               </th> <td>  -10.81</td>\n",
       "</tr>\n",
       "<tr>\n",
       "  <th>Df Residuals:</th>          <td>    46</td>      <th>  BIC:               </th> <td>  -5.133</td>\n",
       "</tr>\n",
       "<tr>\n",
       "  <th>Df Model:</th>              <td>     2</td>      <th>                     </th>     <td> </td>   \n",
       "</tr>\n",
       "<tr>\n",
       "  <th>Covariance Type:</th>      <td>nonrobust</td>    <th>                     </th>     <td> </td>   \n",
       "</tr>\n",
       "</table>\n",
       "<table class=\"simpletable\">\n",
       "<tr>\n",
       "      <td></td>         <th>coef</th>     <th>std err</th>      <th>t</th>      <th>P>|t|</th>  <th>[0.025</th>    <th>0.975]</th>  \n",
       "</tr>\n",
       "<tr>\n",
       "  <th>Intercept</th> <td>-1.665e-16</td> <td>    0.030</td> <td>-5.54e-15</td> <td> 1.000</td> <td>   -0.060</td> <td>    0.060</td>\n",
       "</tr>\n",
       "<tr>\n",
       "  <th>RnD</th>       <td>    0.9868</td> <td>    0.031</td> <td>   31.847</td> <td> 0.000</td> <td>    0.924</td> <td>    1.049</td>\n",
       "</tr>\n",
       "<tr>\n",
       "  <th>Admin</th>     <td>   -0.0344</td> <td>    0.031</td> <td>   -1.110</td> <td> 0.273</td> <td>   -0.097</td> <td>    0.028</td>\n",
       "</tr>\n",
       "</table>\n",
       "<table class=\"simpletable\">\n",
       "<tr>\n",
       "  <th>Omnibus:</th>       <td> 0.444</td> <th>  Durbin-Watson:     </th> <td>   1.498</td>\n",
       "</tr>\n",
       "<tr>\n",
       "  <th>Prob(Omnibus):</th> <td> 0.801</td> <th>  Jarque-Bera (JB):  </th> <td>   0.245</td>\n",
       "</tr>\n",
       "<tr>\n",
       "  <th>Skew:</th>          <td>-0.173</td> <th>  Prob(JB):          </th> <td>   0.885</td>\n",
       "</tr>\n",
       "<tr>\n",
       "  <th>Kurtosis:</th>      <td> 2.972</td> <th>  Cond. No.          </th> <td>    1.28</td>\n",
       "</tr>\n",
       "</table><br/><br/>Notes:<br/>[1] Standard Errors assume that the covariance matrix of the errors is correctly specified."
      ],
      "text/plain": [
       "<class 'statsmodels.iolib.summary.Summary'>\n",
       "\"\"\"\n",
       "                            OLS Regression Results                            \n",
       "==============================================================================\n",
       "Dep. Variable:                 Profit   R-squared:                       0.958\n",
       "Model:                            OLS   Adj. R-squared:                  0.957\n",
       "Method:                 Least Squares   F-statistic:                     530.6\n",
       "Date:                Wed, 29 Mar 2023   Prob (F-statistic):           1.69e-32\n",
       "Time:                        10:56:16   Log-Likelihood:                 8.4042\n",
       "No. Observations:                  49   AIC:                            -10.81\n",
       "Df Residuals:                      46   BIC:                            -5.133\n",
       "Df Model:                           2                                         \n",
       "Covariance Type:            nonrobust                                         \n",
       "==============================================================================\n",
       "                 coef    std err          t      P>|t|      [0.025      0.975]\n",
       "------------------------------------------------------------------------------\n",
       "Intercept  -1.665e-16      0.030  -5.54e-15      1.000      -0.060       0.060\n",
       "RnD            0.9868      0.031     31.847      0.000       0.924       1.049\n",
       "Admin         -0.0344      0.031     -1.110      0.273      -0.097       0.028\n",
       "==============================================================================\n",
       "Omnibus:                        0.444   Durbin-Watson:                   1.498\n",
       "Prob(Omnibus):                  0.801   Jarque-Bera (JB):                0.245\n",
       "Skew:                          -0.173   Prob(JB):                        0.885\n",
       "Kurtosis:                       2.972   Cond. No.                         1.28\n",
       "==============================================================================\n",
       "\n",
       "Notes:\n",
       "[1] Standard Errors assume that the covariance matrix of the errors is correctly specified.\n",
       "\"\"\""
      ]
     },
     "execution_count": 116,
     "metadata": {},
     "output_type": "execute_result"
    }
   ],
   "source": [
    "model_admin_plus_RnD = smf.ols('Profit~RnD+Admin', data= scaled_features_df).fit()\n",
    "model_admin_plus_RnD.summary()"
   ]
  },
  {
   "cell_type": "code",
   "execution_count": 126,
   "id": "f6f57660",
   "metadata": {},
   "outputs": [
    {
     "data": {
      "image/png": "[encoded data removed]",
      "text/plain": [
       "<Figure size 1152x648 with 4 Axes>"
      ]
     },
     "metadata": {
      "needs_background": "light"
     },
     "output_type": "display_data"
    }
   ],
   "source": [
    "import statsmodels.api as sm\n",
    "fig = plt.figure(figsize = (16,9))\n",
    "sm.graphics.plot_regress_exog(model_admin_plus_RnD,'Admin', fig = fig)\n",
    "plt.show()"
   ]
  },
  {
   "cell_type": "code",
   "execution_count": 125,
   "id": "00dcdadc",
   "metadata": {},
   "outputs": [
    {
     "data": {
      "text/html": [
       "<table class=\"simpletable\">\n",
       "<caption>OLS Regression Results</caption>\n",
       "<tr>\n",
       "  <th>Dep. Variable:</th>         <td>Profit</td>      <th>  R-squared:         </th> <td>   0.961</td>\n",
       "</tr>\n",
       "<tr>\n",
       "  <th>Model:</th>                   <td>OLS</td>       <th>  Adj. R-squared:    </th> <td>   0.959</td>\n",
       "</tr>\n",
       "<tr>\n",
       "  <th>Method:</th>             <td>Least Squares</td>  <th>  F-statistic:       </th> <td>   568.0</td>\n",
       "</tr>\n",
       "<tr>\n",
       "  <th>Date:</th>             <td>Wed, 29 Mar 2023</td> <th>  Prob (F-statistic):</th> <td>3.74e-33</td>\n",
       "</tr>\n",
       "<tr>\n",
       "  <th>Time:</th>                 <td>11:00:18</td>     <th>  Log-Likelihood:    </th> <td>  10.009</td>\n",
       "</tr>\n",
       "<tr>\n",
       "  <th>No. Observations:</th>      <td>    49</td>      <th>  AIC:               </th> <td>  -14.02</td>\n",
       "</tr>\n",
       "<tr>\n",
       "  <th>Df Residuals:</th>          <td>    46</td>      <th>  BIC:               </th> <td>  -8.342</td>\n",
       "</tr>\n",
       "<tr>\n",
       "  <th>Df Model:</th>              <td>     2</td>      <th>                     </th>     <td> </td>   \n",
       "</tr>\n",
       "<tr>\n",
       "  <th>Covariance Type:</th>      <td>nonrobust</td>    <th>                     </th>     <td> </td>   \n",
       "</tr>\n",
       "</table>\n",
       "<table class=\"simpletable\">\n",
       "<tr>\n",
       "      <td></td>         <th>coef</th>     <th>std err</th>      <th>t</th>      <th>P>|t|</th>  <th>[0.025</th>    <th>0.975]</th>  \n",
       "</tr>\n",
       "<tr>\n",
       "  <th>Intercept</th> <td>-1.665e-16</td> <td>    0.029</td> <td>-5.73e-15</td> <td> 1.000</td> <td>   -0.059</td> <td>    0.059</td>\n",
       "</tr>\n",
       "<tr>\n",
       "  <th>RnD</th>       <td>    0.9164</td> <td>    0.041</td> <td>   22.136</td> <td> 0.000</td> <td>    0.833</td> <td>    1.000</td>\n",
       "</tr>\n",
       "<tr>\n",
       "  <th>Marketing</th> <td>    0.0871</td> <td>    0.041</td> <td>    2.104</td> <td> 0.041</td> <td>    0.004</td> <td>    0.170</td>\n",
       "</tr>\n",
       "</table>\n",
       "<table class=\"simpletable\">\n",
       "<tr>\n",
       "  <th>Omnibus:</th>       <td> 0.082</td> <th>  Durbin-Watson:     </th> <td>   1.546</td>\n",
       "</tr>\n",
       "<tr>\n",
       "  <th>Prob(Omnibus):</th> <td> 0.960</td> <th>  Jarque-Bera (JB):  </th> <td>   0.273</td>\n",
       "</tr>\n",
       "<tr>\n",
       "  <th>Skew:</th>          <td>-0.051</td> <th>  Prob(JB):          </th> <td>   0.872</td>\n",
       "</tr>\n",
       "<tr>\n",
       "  <th>Kurtosis:</th>      <td> 2.649</td> <th>  Cond. No.          </th> <td>    2.44</td>\n",
       "</tr>\n",
       "</table><br/><br/>Notes:<br/>[1] Standard Errors assume that the covariance matrix of the errors is correctly specified."
      ],
      "text/plain": [
       "<class 'statsmodels.iolib.summary.Summary'>\n",
       "\"\"\"\n",
       "                            OLS Regression Results                            \n",
       "==============================================================================\n",
       "Dep. Variable:                 Profit   R-squared:                       0.961\n",
       "Model:                            OLS   Adj. R-squared:                  0.959\n",
       "Method:                 Least Squares   F-statistic:                     568.0\n",
       "Date:                Wed, 29 Mar 2023   Prob (F-statistic):           3.74e-33\n",
       "Time:                        11:00:18   Log-Likelihood:                 10.009\n",
       "No. Observations:                  49   AIC:                            -14.02\n",
       "Df Residuals:                      46   BIC:                            -8.342\n",
       "Df Model:                           2                                         \n",
       "Covariance Type:            nonrobust                                         \n",
       "==============================================================================\n",
       "                 coef    std err          t      P>|t|      [0.025      0.975]\n",
       "------------------------------------------------------------------------------\n",
       "Intercept  -1.665e-16      0.029  -5.73e-15      1.000      -0.059       0.059\n",
       "RnD            0.9164      0.041     22.136      0.000       0.833       1.000\n",
       "Marketing      0.0871      0.041      2.104      0.041       0.004       0.170\n",
       "==============================================================================\n",
       "Omnibus:                        0.082   Durbin-Watson:                   1.546\n",
       "Prob(Omnibus):                  0.960   Jarque-Bera (JB):                0.273\n",
       "Skew:                          -0.051   Prob(JB):                        0.872\n",
       "Kurtosis:                       2.649   Cond. No.                         2.44\n",
       "==============================================================================\n",
       "\n",
       "Notes:\n",
       "[1] Standard Errors assume that the covariance matrix of the errors is correctly specified.\n",
       "\"\"\""
      ]
     },
     "execution_count": 125,
     "metadata": {},
     "output_type": "execute_result"
    }
   ],
   "source": [
    "model_marketing_plus_RnD = sm.ols(\"Profit~RnD+Marketing\", data = scaled_features_df).fit()\n",
    "model_marketing_plus_RnD.summary()"
   ]
  },
  {
   "cell_type": "code",
   "execution_count": 128,
   "id": "5d6a0560",
   "metadata": {},
   "outputs": [
    {
     "data": {
      "image/png": "[encoded data removed]",
      "text/plain": [
       "<Figure size 1152x648 with 4 Axes>"
      ]
     },
     "metadata": {
      "needs_background": "light"
     },
     "output_type": "display_data"
    }
   ],
   "source": [
    "fig = plt.figure(figsize = (16,9))\n",
    "sm.graphics.plot_regress_exog(model_marketing_plus_RnD,'Marketing', fig = fig)\n",
    "plt.show()"
   ]
  },
  {
   "cell_type": "code",
   "execution_count": 131,
   "id": "0ac7fc47",
   "metadata": {},
   "outputs": [
    {
     "data": {
      "text/html": [
       "<table class=\"simpletable\">\n",
       "<caption>OLS Regression Results</caption>\n",
       "<tr>\n",
       "  <th>Dep. Variable:</th>         <td>Profit</td>      <th>  R-squared:         </th> <td>   0.957</td>\n",
       "</tr>\n",
       "<tr>\n",
       "  <th>Model:</th>                   <td>OLS</td>       <th>  Adj. R-squared:    </th> <td>   0.956</td>\n",
       "</tr>\n",
       "<tr>\n",
       "  <th>Method:</th>             <td>Least Squares</td>  <th>  F-statistic:       </th> <td>   1055.</td>\n",
       "</tr>\n",
       "<tr>\n",
       "  <th>Date:</th>             <td>Wed, 29 Mar 2023</td> <th>  Prob (F-statistic):</th> <td>7.56e-34</td>\n",
       "</tr>\n",
       "<tr>\n",
       "  <th>Time:</th>                 <td>11:02:20</td>     <th>  Log-Likelihood:    </th> <td>  7.7569</td>\n",
       "</tr>\n",
       "<tr>\n",
       "  <th>No. Observations:</th>      <td>    49</td>      <th>  AIC:               </th> <td>  -11.51</td>\n",
       "</tr>\n",
       "<tr>\n",
       "  <th>Df Residuals:</th>          <td>    47</td>      <th>  BIC:               </th> <td>  -7.730</td>\n",
       "</tr>\n",
       "<tr>\n",
       "  <th>Df Model:</th>              <td>     1</td>      <th>                     </th>     <td> </td>   \n",
       "</tr>\n",
       "<tr>\n",
       "  <th>Covariance Type:</th>      <td>nonrobust</td>    <th>                     </th>     <td> </td>   \n",
       "</tr>\n",
       "</table>\n",
       "<table class=\"simpletable\">\n",
       "<tr>\n",
       "      <td></td>         <th>coef</th>     <th>std err</th>      <th>t</th>      <th>P>|t|</th>  <th>[0.025</th>    <th>0.975]</th>  \n",
       "</tr>\n",
       "<tr>\n",
       "  <th>Intercept</th> <td>-1.665e-16</td> <td>    0.030</td> <td>-5.53e-15</td> <td> 1.000</td> <td>   -0.061</td> <td>    0.061</td>\n",
       "</tr>\n",
       "<tr>\n",
       "  <th>RnD</th>       <td>    0.9784</td> <td>    0.030</td> <td>   32.477</td> <td> 0.000</td> <td>    0.918</td> <td>    1.039</td>\n",
       "</tr>\n",
       "</table>\n",
       "<table class=\"simpletable\">\n",
       "<tr>\n",
       "  <th>Omnibus:</th>       <td> 0.070</td> <th>  Durbin-Watson:     </th> <td>   1.372</td>\n",
       "</tr>\n",
       "<tr>\n",
       "  <th>Prob(Omnibus):</th> <td> 0.966</td> <th>  Jarque-Bera (JB):  </th> <td>   0.203</td>\n",
       "</tr>\n",
       "<tr>\n",
       "  <th>Skew:</th>          <td>-0.080</td> <th>  Prob(JB):          </th> <td>   0.903</td>\n",
       "</tr>\n",
       "<tr>\n",
       "  <th>Kurtosis:</th>      <td> 2.728</td> <th>  Cond. No.          </th> <td>    1.00</td>\n",
       "</tr>\n",
       "</table><br/><br/>Notes:<br/>[1] Standard Errors assume that the covariance matrix of the errors is correctly specified."
      ],
      "text/plain": [
       "<class 'statsmodels.iolib.summary.Summary'>\n",
       "\"\"\"\n",
       "                            OLS Regression Results                            \n",
       "==============================================================================\n",
       "Dep. Variable:                 Profit   R-squared:                       0.957\n",
       "Model:                            OLS   Adj. R-squared:                  0.956\n",
       "Method:                 Least Squares   F-statistic:                     1055.\n",
       "Date:                Wed, 29 Mar 2023   Prob (F-statistic):           7.56e-34\n",
       "Time:                        11:02:20   Log-Likelihood:                 7.7569\n",
       "No. Observations:                  49   AIC:                            -11.51\n",
       "Df Residuals:                      47   BIC:                            -7.730\n",
       "Df Model:                           1                                         \n",
       "Covariance Type:            nonrobust                                         \n",
       "==============================================================================\n",
       "                 coef    std err          t      P>|t|      [0.025      0.975]\n",
       "------------------------------------------------------------------------------\n",
       "Intercept  -1.665e-16      0.030  -5.53e-15      1.000      -0.061       0.061\n",
       "RnD            0.9784      0.030     32.477      0.000       0.918       1.039\n",
       "==============================================================================\n",
       "Omnibus:                        0.070   Durbin-Watson:                   1.372\n",
       "Prob(Omnibus):                  0.966   Jarque-Bera (JB):                0.203\n",
       "Skew:                          -0.080   Prob(JB):                        0.903\n",
       "Kurtosis:                       2.728   Cond. No.                         1.00\n",
       "==============================================================================\n",
       "\n",
       "Notes:\n",
       "[1] Standard Errors assume that the covariance matrix of the errors is correctly specified.\n",
       "\"\"\""
      ]
     },
     "execution_count": 131,
     "metadata": {},
     "output_type": "execute_result"
    }
   ],
   "source": [
    "model_only_RnD = smf.ols(\"Profit~RnD\", data = scaled_features_df).fit()\n",
    "model_only_RnD.summary()"
   ]
  },
  {
   "cell_type": "markdown",
   "id": "fac8cbf1",
   "metadata": {},
   "source": [
    "Let's compare the residuals of both the models to come up with an conclusion\n",
    "\n",
    "\n",
    "Model Validation"
   ]
  },
  {
   "cell_type": "code",
   "execution_count": 132,
   "id": "defbd341",
   "metadata": {},
   "outputs": [],
   "source": [
    "from sklearn.metrics import mean_squared_error\n",
    "from sklearn.model_selection import cross_val_score\n",
    "from sklearn.model_selection import train_test_split\n",
    "from sklearn.linear_model import LinearRegression\n"
   ]
  },
  {
   "cell_type": "code",
   "execution_count": 133,
   "id": "fc60e6ed",
   "metadata": {},
   "outputs": [
    {
     "data": {
      "text/plain": [
       "Index(['RnD', 'Admin', 'Marketing', 'Profit'], dtype='object')"
      ]
     },
     "execution_count": 133,
     "metadata": {},
     "output_type": "execute_result"
    }
   ],
   "source": [
    "data3.columns"
   ]
  },
  {
   "cell_type": "code",
   "execution_count": 134,
   "id": "0544467e",
   "metadata": {},
   "outputs": [
    {
     "name": "stdout",
     "output_type": "stream",
     "text": [
      "Shape of x:  (49, 3)\n",
      "Shape of y: (49, 1)\n"
     ]
    }
   ],
   "source": [
    "x = data3.drop('Profit', axis = 1).values\n",
    "y = data3.iloc[:,3:].values.reshape(-1,1)\n",
    "print(\"Shape of x: \",x.shape)\n",
    "print(\"Shape of y:\",y.shape)"
   ]
  },
  {
   "cell_type": "code",
   "execution_count": 135,
   "id": "9e297b02",
   "metadata": {},
   "outputs": [
    {
     "name": "stdout",
     "output_type": "stream",
     "text": [
      "Shape of X_train:  (36, 3)\n",
      "Shape of X_test:  (13, 3)\n",
      "Shape of y_train:  (36, 1)\n",
      "Shape of y_test (13, 1)\n"
     ]
    }
   ],
   "source": [
    "# Splitting the dataset into the Training set and Test set\n",
    "x_train, x_test, y_train, y_test = train_test_split(x, y, test_size = 0.25, random_state = 42)\n",
    "print(\"Shape of X_train: \",x_train.shape)\n",
    "print(\"Shape of X_test: \", x_test.shape)\n",
    "print(\"Shape of y_train: \",y_train.shape)\n",
    "print(\"Shape of y_test\",y_test.shape)"
   ]
  },
  {
   "cell_type": "code",
   "execution_count": 136,
   "id": "a231576b",
   "metadata": {},
   "outputs": [
    {
     "data": {
      "text/plain": [
       "LinearRegression()"
      ]
     },
     "execution_count": 136,
     "metadata": {},
     "output_type": "execute_result"
    }
   ],
   "source": [
    "from sklearn.preprocessing import StandardScaler\n",
    "\n",
    "#Scaling \n",
    "transformer_x = StandardScaler().fit(x_train)\n",
    "transformer_y = StandardScaler().fit(y_train) \n",
    "x_train_scal = transformer_x.transform(x_train)\n",
    "x_test_scal = transformer_x.transform(x_test)\n",
    "y_train_scal = transformer_y.transform(y_train)\n",
    "y_test_scal = transformer_y.transform(y_test)\n",
    "\n",
    "#Linear Regression\n",
    "regressor_linear = LinearRegression()\n",
    "regressor_linear.fit(x_train_scal, y_train_scal)"
   ]
  },
  {
   "cell_type": "code",
   "execution_count": 138,
   "id": "0164722e",
   "metadata": {},
   "outputs": [],
   "source": [
    "# Scale the test dataset\n",
    "X_test_scaled = transformer_x.transform(x_test)\n",
    "\n",
    "# Predict with the trained model\n",
    "prediction = regressor_linear.predict(X_test_scaled)\n",
    "\n",
    "# Inverse transform the prediction\n",
    "prediction_unscaled = transformer_y.inverse_transform(prediction)\n",
    "\n"
   ]
  },
  {
   "cell_type": "code",
   "execution_count": 139,
   "id": "ba71e53a",
   "metadata": {},
   "outputs": [],
   "source": [
    "from sklearn.metrics import r2_score\n",
    "\n",
    "# Predicting Cross Validation Score the Test set results\n",
    "cv_linear = cross_val_score(estimator = regressor_linear, X = x_train_scal, y = y_train_scal, cv = 10)\n",
    "\n",
    "# Predicting R2 Score the Train set results\n",
    "y_pred_linear_train = regressor_linear.predict(x_train_scal)\n",
    "r2_score_all_feature_train = r2_score(y_train_scal, y_pred_linear_train)"
   ]
  },
  {
   "cell_type": "code",
   "execution_count": 140,
   "id": "841452d8",
   "metadata": {},
   "outputs": [],
   "source": [
    "# Predicting R2 Score the Test set results\n",
    "y_pred_linear_test = regressor_linear.predict(x_test_scal)\n",
    "r2_score_all_feature_test = r2_score(y_test_scal, y_pred_linear_test)"
   ]
  },
  {
   "cell_type": "code",
   "execution_count": 141,
   "id": "bb6bd2a7",
   "metadata": {},
   "outputs": [
    {
     "name": "stdout",
     "output_type": "stream",
     "text": [
      "CV:  0.9059814869956571\n",
      "R2_score (train):  0.9650197585709105\n",
      "R2_score (test):  0.9341582772336136\n",
      "RMSE using all features:  8385.78357148079\n"
     ]
    }
   ],
   "source": [
    "# Predicting RMSE the Test set results\n",
    "rmse_linear_using_all_features = (np.sqrt(mean_squared_error(y_test, prediction_unscaled)))\n",
    "print(\"CV: \", cv_linear.mean())\n",
    "print('R2_score (train): ', r2_score_all_feature_train)\n",
    "print('R2_score (test): ', r2_score_all_feature_test)\n",
    "print(\"RMSE using all features: \", rmse_linear_using_all_features)"
   ]
  },
  {
   "cell_type": "markdown",
   "id": "a18fa1af",
   "metadata": {},
   "source": [
    "Using RnD and Marketing Feature"
   ]
  },
  {
   "cell_type": "code",
   "execution_count": 142,
   "id": "390f620b",
   "metadata": {},
   "outputs": [
    {
     "name": "stdout",
     "output_type": "stream",
     "text": [
      "Shape of x:  (49, 2)\n",
      "Shape of y: (49, 1)\n"
     ]
    }
   ],
   "source": [
    "x = data3.drop(['Profit','Admin'],axis=1).values\n",
    "y = data3.iloc[:,3:].values.reshape(-1,1)\n",
    "print(\"Shape of x: \",x.shape)\n",
    "print(\"Shape of y:\",y.shape)"
   ]
  },
  {
   "cell_type": "code",
   "execution_count": 143,
   "id": "af46f1d3",
   "metadata": {},
   "outputs": [
    {
     "name": "stdout",
     "output_type": "stream",
     "text": [
      "Shape of X_train:  (36, 2)\n",
      "Shape of X_test:  (13, 2)\n",
      "Shape of y_train:  (36, 1)\n",
      "Shape of y_test (13, 1)\n"
     ]
    }
   ],
   "source": [
    "# Splitting the dataset into the Training set and Test set\n",
    "x_train, x_test, y_train, y_test = train_test_split(x, y, test_size = 0.25, random_state = 42)\n",
    "print(\"Shape of X_train: \",x_train.shape)\n",
    "print(\"Shape of X_test: \", x_test.shape)\n",
    "print(\"Shape of y_train: \",y_train.shape)\n",
    "print(\"Shape of y_test\",y_test.shape)"
   ]
  },
  {
   "cell_type": "code",
   "execution_count": 144,
   "id": "50db64ff",
   "metadata": {},
   "outputs": [
    {
     "data": {
      "text/plain": [
       "LinearRegression()"
      ]
     },
     "execution_count": 144,
     "metadata": {},
     "output_type": "execute_result"
    }
   ],
   "source": [
    "from sklearn.preprocessing import StandardScaler\n",
    "\n",
    "#Scaling \n",
    "transformer_x = StandardScaler().fit(x_train)\n",
    "transformer_y = StandardScaler().fit(y_train) \n",
    "x_train_scal = transformer_x.transform(x_train)\n",
    "x_test_scal = transformer_x.transform(x_test)\n",
    "y_train_scal = transformer_y.transform(y_train)\n",
    "y_test_scal = transformer_y.transform(y_test)\n",
    "\n",
    "#Linear Regression\n",
    "regressor_linear = LinearRegression()\n",
    "regressor_linear.fit(x_train_scal, y_train_scal)"
   ]
  },
  {
   "cell_type": "code",
   "execution_count": 145,
   "id": "584608e5",
   "metadata": {},
   "outputs": [],
   "source": [
    "# Scale the test dataset\n",
    "X_test_scaled = transformer_x.transform(x_test)\n",
    "\n",
    "# Predict with the trained model\n",
    "prediction = regressor_linear.predict(X_test_scaled)\n",
    "\n",
    "# Inverse transform the prediction\n",
    "prediction_unscaled = transformer_y.inverse_transform(prediction)\n"
   ]
  },
  {
   "cell_type": "code",
   "execution_count": 146,
   "id": "e228d94e",
   "metadata": {},
   "outputs": [],
   "source": [
    "from sklearn.metrics import r2_score\n",
    "\n",
    "# Predicting Cross Validation Score the Test set results\n",
    "cv_linear = cross_val_score(estimator = regressor_linear, X = x_train_scal, y = y_train_scal, cv = 10)\n",
    "\n",
    "# Predicting R2 Score the Train set results\n",
    "y_pred_linear_train = regressor_linear.predict(x_train_scal)\n",
    "r2_score_rnd_and_marketing_train = r2_score(y_train_scal, y_pred_linear_train)"
   ]
  },
  {
   "cell_type": "code",
   "execution_count": 147,
   "id": "d9f4b60d",
   "metadata": {},
   "outputs": [],
   "source": [
    "# Predicting R2 Score the Test set results\n",
    "y_pred_linear_test = regressor_linear.predict(x_test_scal)\n",
    "r2_score_rnd_and_marketing_test = r2_score(y_test_scal, y_pred_linear_test)"
   ]
  },
  {
   "cell_type": "code",
   "execution_count": 148,
   "id": "0585fcca",
   "metadata": {},
   "outputs": [
    {
     "name": "stdout",
     "output_type": "stream",
     "text": [
      "CV:  0.9114070932851247\n",
      "R2_score (train):  0.9643536571553787\n",
      "R2_score (test):  0.939185037123506\n",
      "RMSE using RnD and Marketing feature:  8059.31776528276\n"
     ]
    }
   ],
   "source": [
    "# Predicting RMSE the Test set results\n",
    "rmse_linear_using_RnD_and_marketing = (np.sqrt(mean_squared_error(y_test, prediction_unscaled)))\n",
    "print(\"CV: \", cv_linear.mean())\n",
    "print('R2_score (train): ', r2_score_rnd_and_marketing_train)\n",
    "print('R2_score (test): ', r2_score_rnd_and_marketing_test)\n",
    "print(\"RMSE using RnD and Marketing feature: \", rmse_linear_using_RnD_and_marketing)"
   ]
  },
  {
   "cell_type": "markdown",
   "id": "bc83a85b",
   "metadata": {},
   "source": [
    "Using only RnD feature"
   ]
  },
  {
   "cell_type": "code",
   "execution_count": 149,
   "id": "21582567",
   "metadata": {},
   "outputs": [
    {
     "name": "stdout",
     "output_type": "stream",
     "text": [
      "Shape of x:  (49, 1)\n",
      "Shape of y: (49, 1)\n"
     ]
    }
   ],
   "source": [
    "x = data3.iloc[:,:1].values\n",
    "y = data3.iloc[:,3:].values.reshape(-1,1)\n",
    "print(\"Shape of x: \",x.shape)\n",
    "print(\"Shape of y:\",y.shape)"
   ]
  },
  {
   "cell_type": "code",
   "execution_count": 150,
   "id": "812c53d2",
   "metadata": {},
   "outputs": [
    {
     "name": "stdout",
     "output_type": "stream",
     "text": [
      "Shape of X_train:  (36, 1)\n",
      "Shape of X_test:  (13, 1)\n",
      "Shape of y_train:  (36, 1)\n",
      "Shape of y_test (13, 1)\n"
     ]
    }
   ],
   "source": [
    "# Splitting the dataset into the Training set and Test set\n",
    "x_train, x_test, y_train, y_test = train_test_split(x, y, test_size = 0.25, random_state = 42)\n",
    "print(\"Shape of X_train: \",x_train.shape)\n",
    "print(\"Shape of X_test: \", x_test.shape)\n",
    "print(\"Shape of y_train: \",y_train.shape)\n",
    "print(\"Shape of y_test\",y_test.shape)"
   ]
  },
  {
   "cell_type": "code",
   "execution_count": 151,
   "id": "5f10f0a2",
   "metadata": {},
   "outputs": [
    {
     "data": {
      "text/plain": [
       "LinearRegression()"
      ]
     },
     "execution_count": 151,
     "metadata": {},
     "output_type": "execute_result"
    }
   ],
   "source": [
    "from sklearn.preprocessing import StandardScaler\n",
    "\n",
    "#Scaling \n",
    "transformer_x = StandardScaler().fit(x_train)\n",
    "transformer_y = StandardScaler().fit(y_train) \n",
    "x_train_scal = transformer_x.transform(x_train)\n",
    "x_test_scal = transformer_x.transform(x_test)\n",
    "y_train_scal = transformer_y.transform(y_train)\n",
    "y_test_scal = transformer_y.transform(y_test)\n",
    "\n",
    "#Linear Regression\n",
    "regressor_linear_using_rnd = LinearRegression()\n",
    "regressor_linear_using_rnd.fit(x_train_scal, y_train_scal)"
   ]
  },
  {
   "cell_type": "code",
   "execution_count": 152,
   "id": "a8ad9f2a",
   "metadata": {},
   "outputs": [],
   "source": [
    "# Scale the test dataset\n",
    "X_test_scaled = transformer_x.transform(x_test)\n",
    "\n",
    "# Predict with the trained model\n",
    "prediction = regressor_linear_using_rnd.predict(X_test_scaled)\n",
    "\n",
    "# Inverse transform the prediction\n",
    "prediction_unscaled = transformer_y.inverse_transform(prediction)"
   ]
  },
  {
   "cell_type": "code",
   "execution_count": 153,
   "id": "ad49fcf9",
   "metadata": {},
   "outputs": [],
   "source": [
    "from sklearn.metrics import r2_score\n",
    "\n",
    "# Predicting Cross Validation Score the Test set results\n",
    "cv_linear = cross_val_score(estimator = regressor_linear_using_rnd, X = x_train_scal, y = y_train_scal, cv = 10)\n",
    "\n",
    "# Predicting R2 Score the Train set results\n",
    "y_pred_linear_train = regressor_linear_using_rnd.predict(x_train_scal)\n",
    "r2_score_rnd_train = r2_score(y_train_scal, y_pred_linear_train)"
   ]
  },
  {
   "cell_type": "code",
   "execution_count": 154,
   "id": "c0cd86a7",
   "metadata": {},
   "outputs": [],
   "source": [
    "# Predicting R2 Score the Test set results\n",
    "y_pred_linear_test = regressor_linear_using_rnd.predict(x_test_scal)\n",
    "r2_score_rnd_test = r2_score(y_test_scal, y_pred_linear_test)"
   ]
  },
  {
   "cell_type": "code",
   "execution_count": 155,
   "id": "2a7f4d68",
   "metadata": {},
   "outputs": [
    {
     "name": "stdout",
     "output_type": "stream",
     "text": [
      "CV:  0.8900789292733178\n",
      "R2_score (train):  0.957733077239081\n",
      "R2_score (test):  0.9521017609333128\n",
      "RMSE using only RnD feature:  7152.417057875892\n"
     ]
    }
   ],
   "source": [
    "# Predicting RMSE on Test set results\n",
    "rmse_linear_using_only_RnD = (np.sqrt(mean_squared_error(y_test, prediction_unscaled)))\n",
    "print(\"CV: \", cv_linear.mean())\n",
    "print('R2_score (train): ', r2_score_rnd_train)\n",
    "print('R2_score (test): ', r2_score_rnd_test)\n",
    "print(\"RMSE using only RnD feature: \", rmse_linear_using_only_RnD)"
   ]
  },
  {
   "cell_type": "markdown",
   "id": "3e11f477",
   "metadata": {},
   "source": [
    "Let's compare the Root Mean Squared Error and check for the minimum value"
   ]
  },
  {
   "cell_type": "code",
   "execution_count": 158,
   "id": "be443531",
   "metadata": {},
   "outputs": [
    {
     "data": {
      "text/html": [
       "<table class=\"simpletable\">\n",
       "<caption>OLS Regression Results</caption>\n",
       "<tr>\n",
       "  <th>Dep. Variable:</th>         <td>Profit</td>      <th>  R-squared:         </th> <td>   0.957</td>\n",
       "</tr>\n",
       "<tr>\n",
       "  <th>Model:</th>                   <td>OLS</td>       <th>  Adj. R-squared:    </th> <td>   0.956</td>\n",
       "</tr>\n",
       "<tr>\n",
       "  <th>Method:</th>             <td>Least Squares</td>  <th>  F-statistic:       </th> <td>   1055.</td>\n",
       "</tr>\n",
       "<tr>\n",
       "  <th>Date:</th>             <td>Wed, 29 Mar 2023</td> <th>  Prob (F-statistic):</th> <td>7.56e-34</td>\n",
       "</tr>\n",
       "<tr>\n",
       "  <th>Time:</th>                 <td>11:08:34</td>     <th>  Log-Likelihood:    </th> <td>  7.7569</td>\n",
       "</tr>\n",
       "<tr>\n",
       "  <th>No. Observations:</th>      <td>    49</td>      <th>  AIC:               </th> <td>  -11.51</td>\n",
       "</tr>\n",
       "<tr>\n",
       "  <th>Df Residuals:</th>          <td>    47</td>      <th>  BIC:               </th> <td>  -7.730</td>\n",
       "</tr>\n",
       "<tr>\n",
       "  <th>Df Model:</th>              <td>     1</td>      <th>                     </th>     <td> </td>   \n",
       "</tr>\n",
       "<tr>\n",
       "  <th>Covariance Type:</th>      <td>nonrobust</td>    <th>                     </th>     <td> </td>   \n",
       "</tr>\n",
       "</table>\n",
       "<table class=\"simpletable\">\n",
       "<tr>\n",
       "      <td></td>         <th>coef</th>     <th>std err</th>      <th>t</th>      <th>P>|t|</th>  <th>[0.025</th>    <th>0.975]</th>  \n",
       "</tr>\n",
       "<tr>\n",
       "  <th>Intercept</th> <td>-1.665e-16</td> <td>    0.030</td> <td>-5.53e-15</td> <td> 1.000</td> <td>   -0.061</td> <td>    0.061</td>\n",
       "</tr>\n",
       "<tr>\n",
       "  <th>RnD</th>       <td>    0.9784</td> <td>    0.030</td> <td>   32.477</td> <td> 0.000</td> <td>    0.918</td> <td>    1.039</td>\n",
       "</tr>\n",
       "</table>\n",
       "<table class=\"simpletable\">\n",
       "<tr>\n",
       "  <th>Omnibus:</th>       <td> 0.070</td> <th>  Durbin-Watson:     </th> <td>   1.372</td>\n",
       "</tr>\n",
       "<tr>\n",
       "  <th>Prob(Omnibus):</th> <td> 0.966</td> <th>  Jarque-Bera (JB):  </th> <td>   0.203</td>\n",
       "</tr>\n",
       "<tr>\n",
       "  <th>Skew:</th>          <td>-0.080</td> <th>  Prob(JB):          </th> <td>   0.903</td>\n",
       "</tr>\n",
       "<tr>\n",
       "  <th>Kurtosis:</th>      <td> 2.728</td> <th>  Cond. No.          </th> <td>    1.00</td>\n",
       "</tr>\n",
       "</table><br/><br/>Notes:<br/>[1] Standard Errors assume that the covariance matrix of the errors is correctly specified."
      ],
      "text/plain": [
       "<class 'statsmodels.iolib.summary.Summary'>\n",
       "\"\"\"\n",
       "                            OLS Regression Results                            \n",
       "==============================================================================\n",
       "Dep. Variable:                 Profit   R-squared:                       0.957\n",
       "Model:                            OLS   Adj. R-squared:                  0.956\n",
       "Method:                 Least Squares   F-statistic:                     1055.\n",
       "Date:                Wed, 29 Mar 2023   Prob (F-statistic):           7.56e-34\n",
       "Time:                        11:08:34   Log-Likelihood:                 7.7569\n",
       "No. Observations:                  49   AIC:                            -11.51\n",
       "Df Residuals:                      47   BIC:                            -7.730\n",
       "Df Model:                           1                                         \n",
       "Covariance Type:            nonrobust                                         \n",
       "==============================================================================\n",
       "                 coef    std err          t      P>|t|      [0.025      0.975]\n",
       "------------------------------------------------------------------------------\n",
       "Intercept  -1.665e-16      0.030  -5.53e-15      1.000      -0.061       0.061\n",
       "RnD            0.9784      0.030     32.477      0.000       0.918       1.039\n",
       "==============================================================================\n",
       "Omnibus:                        0.070   Durbin-Watson:                   1.372\n",
       "Prob(Omnibus):                  0.966   Jarque-Bera (JB):                0.203\n",
       "Skew:                          -0.080   Prob(JB):                        0.903\n",
       "Kurtosis:                       2.728   Cond. No.                         1.00\n",
       "==============================================================================\n",
       "\n",
       "Notes:\n",
       "[1] Standard Errors assume that the covariance matrix of the errors is correctly specified.\n",
       "\"\"\""
      ]
     },
     "execution_count": 158,
     "metadata": {},
     "output_type": "execute_result"
    }
   ],
   "source": [
    "final_model = smf.ols(\"Profit~RnD\", data = scaled_features_df).fit()\n",
    "final_model.summary()"
   ]
  },
  {
   "cell_type": "code",
   "execution_count": 160,
   "id": "0855e631",
   "metadata": {},
   "outputs": [
    {
     "data": {
      "image/png": "[encoded data removed]",
      "text/plain": [
       "<Figure size 576x576 with 1 Axes>"
      ]
     },
     "metadata": {
      "needs_background": "light"
     },
     "output_type": "display_data"
    }
   ],
   "source": [
    "sm.qqplot(final_model.resid, line = 'q')\n",
    "plt.title(\"Normal Q-Q plot for residuals\")\n",
    "plt.show()\n"
   ]
  },
  {
   "cell_type": "markdown",
   "id": "08c5ebb8",
   "metadata": {},
   "source": [
    "Residual plot for Homoscedasticity"
   ]
  },
  {
   "cell_type": "code",
   "execution_count": 161,
   "id": "b3956715",
   "metadata": {},
   "outputs": [],
   "source": [
    "def get_standardized_values( vals ):\n",
    "    return (vals - vals.mean())/vals.std()"
   ]
  },
  {
   "cell_type": "code",
   "execution_count": 162,
   "id": "1b2ee96e",
   "metadata": {},
   "outputs": [
    {
     "data": {
      "image/png": "[encoded data removed]",
      "text/plain": [
       "<Figure size 576x576 with 1 Axes>"
      ]
     },
     "metadata": {
      "needs_background": "light"
     },
     "output_type": "display_data"
    }
   ],
   "source": [
    "plt.scatter(get_standardized_values(final_model.fittedvalues), get_standardized_values(final_model.resid))\n",
    "plt.title('Residual Plot')\n",
    "plt.xlabel('Standardized Fitted Values')\n",
    "plt.ylabel('Standardized Residual Values')\n",
    "plt.show()"
   ]
  },
  {
   "cell_type": "markdown",
   "id": "ca4aa8b3",
   "metadata": {},
   "source": [
    "Residual VS Regressors"
   ]
  },
  {
   "cell_type": "code",
   "execution_count": 164,
   "id": "9dfb1dc7",
   "metadata": {},
   "outputs": [
    {
     "data": {
      "image/png": "[encoded data removed]",
      "text/plain": [
       "<Figure size 1152x648 with 4 Axes>"
      ]
     },
     "metadata": {
      "needs_background": "light"
     },
     "output_type": "display_data"
    }
   ],
   "source": [
    "fig = plt.figure(figsize = (16,9))\n",
    "plot_RnD = sm.graphics.plot_regress_exog(final_model,'RnD', fig=fig)\n",
    "plt.show()"
   ]
  },
  {
   "cell_type": "markdown",
   "id": "4c0ee49b",
   "metadata": {},
   "source": [
    "Predicting values from Model using same dataset"
   ]
  },
  {
   "cell_type": "code",
   "execution_count": 165,
   "id": "19309b0e",
   "metadata": {},
   "outputs": [],
   "source": [
    "# Scale the test dataset\n",
    "X_test_scaled = transformer_x.transform(data3.values.reshape(-1,1))\n",
    "\n",
    "# Predict with the trained model\n",
    "prediction = regressor_linear_using_rnd.predict(X_test_scaled)\n",
    "\n",
    "# Inverse transform the prediction\n",
    "prediction_unscaled = transformer_y.inverse_transform(prediction)"
   ]
  },
  {
   "cell_type": "code",
   "execution_count": 166,
   "id": "e1bb776a",
   "metadata": {},
   "outputs": [
    {
     "data": {
      "text/html": [
       "<div>\n",
       "<style scoped>\n",
       "    .dataframe tbody tr th:only-of-type {\n",
       "        vertical-align: middle;\n",
       "    }\n",
       "\n",
       "    .dataframe tbody tr th {\n",
       "        vertical-align: top;\n",
       "    }\n",
       "\n",
       "    .dataframe thead th {\n",
       "        text-align: right;\n",
       "    }\n",
       "</style>\n",
       "<table border=\"1\" class=\"dataframe\">\n",
       "  <thead>\n",
       "    <tr style=\"text-align: right;\">\n",
       "      <th></th>\n",
       "      <th>Predicted_Profit</th>\n",
       "      <th>Profit</th>\n",
       "      <th>RnD</th>\n",
       "    </tr>\n",
       "  </thead>\n",
       "  <tbody>\n",
       "    <tr>\n",
       "      <th>0</th>\n",
       "      <td>188741.633166</td>\n",
       "      <td>192261.83</td>\n",
       "      <td>165349.20</td>\n",
       "    </tr>\n",
       "    <tr>\n",
       "      <th>1</th>\n",
       "      <td>165165.693431</td>\n",
       "      <td>191792.06</td>\n",
       "      <td>162597.70</td>\n",
       "    </tr>\n",
       "    <tr>\n",
       "      <th>2</th>\n",
       "      <td>442665.543246</td>\n",
       "      <td>191050.39</td>\n",
       "      <td>153441.51</td>\n",
       "    </tr>\n",
       "    <tr>\n",
       "      <th>3</th>\n",
       "      <td>211042.488062</td>\n",
       "      <td>182901.99</td>\n",
       "      <td>144372.41</td>\n",
       "    </tr>\n",
       "    <tr>\n",
       "      <th>4</th>\n",
       "      <td>186461.632949</td>\n",
       "      <td>166187.94</td>\n",
       "      <td>142107.34</td>\n",
       "    </tr>\n",
       "    <tr>\n",
       "      <th>...</th>\n",
       "      <td>...</td>\n",
       "      <td>...</td>\n",
       "      <td>...</td>\n",
       "    </tr>\n",
       "    <tr>\n",
       "      <th>191</th>\n",
       "      <td>86993.489143</td>\n",
       "      <td>NaN</td>\n",
       "      <td>NaN</td>\n",
       "    </tr>\n",
       "    <tr>\n",
       "      <th>192</th>\n",
       "      <td>52176.000671</td>\n",
       "      <td>NaN</td>\n",
       "      <td>NaN</td>\n",
       "    </tr>\n",
       "    <tr>\n",
       "      <th>193</th>\n",
       "      <td>94603.229137</td>\n",
       "      <td>NaN</td>\n",
       "      <td>NaN</td>\n",
       "    </tr>\n",
       "    <tr>\n",
       "      <th>194</th>\n",
       "      <td>51726.836899</td>\n",
       "      <td>NaN</td>\n",
       "      <td>NaN</td>\n",
       "    </tr>\n",
       "    <tr>\n",
       "      <th>195</th>\n",
       "      <td>81287.215802</td>\n",
       "      <td>NaN</td>\n",
       "      <td>NaN</td>\n",
       "    </tr>\n",
       "  </tbody>\n",
       "</table>\n",
       "<p>196 rows × 3 columns</p>\n",
       "</div>"
      ],
      "text/plain": [
       "     Predicted_Profit     Profit        RnD\n",
       "0       188741.633166  192261.83  165349.20\n",
       "1       165165.693431  191792.06  162597.70\n",
       "2       442665.543246  191050.39  153441.51\n",
       "3       211042.488062  182901.99  144372.41\n",
       "4       186461.632949  166187.94  142107.34\n",
       "..                ...        ...        ...\n",
       "191      86993.489143        NaN        NaN\n",
       "192      52176.000671        NaN        NaN\n",
       "193      94603.229137        NaN        NaN\n",
       "194      51726.836899        NaN        NaN\n",
       "195      81287.215802        NaN        NaN\n",
       "\n",
       "[196 rows x 3 columns]"
      ]
     },
     "execution_count": 166,
     "metadata": {},
     "output_type": "execute_result"
    }
   ],
   "source": [
    "predicted = pd.DataFrame(prediction_unscaled, columns=['Predicted_Profit'])\n",
    "predicted['Profit'] = data3.Profit\n",
    "predicted['RnD'] = data3.RnD\n",
    "predicted"
   ]
  },
  {
   "cell_type": "markdown",
   "id": "95ef979a",
   "metadata": {},
   "source": [
    "Table containing R^2 value for each prepared model"
   ]
  },
  {
   "cell_type": "code",
   "execution_count": 167,
   "id": "9c1ab96d",
   "metadata": {},
   "outputs": [
    {
     "data": {
      "text/html": [
       "<div>\n",
       "<style scoped>\n",
       "    .dataframe tbody tr th:only-of-type {\n",
       "        vertical-align: middle;\n",
       "    }\n",
       "\n",
       "    .dataframe tbody tr th {\n",
       "        vertical-align: top;\n",
       "    }\n",
       "\n",
       "    .dataframe thead th {\n",
       "        text-align: right;\n",
       "    }\n",
       "</style>\n",
       "<table border=\"1\" class=\"dataframe\">\n",
       "  <thead>\n",
       "    <tr style=\"text-align: right;\">\n",
       "      <th></th>\n",
       "      <th>Different_Models</th>\n",
       "      <th>R_squared</th>\n",
       "      <th>R_squared_adjusted</th>\n",
       "      <th>RMSE</th>\n",
       "    </tr>\n",
       "  </thead>\n",
       "  <tbody>\n",
       "    <tr>\n",
       "      <th>0</th>\n",
       "      <td>Raw_data</td>\n",
       "      <td>0.961316</td>\n",
       "      <td>0.958737</td>\n",
       "      <td>0.205237</td>\n",
       "    </tr>\n",
       "    <tr>\n",
       "      <th>1</th>\n",
       "      <td>Median_Imputation_Outlier</td>\n",
       "      <td>0.950746</td>\n",
       "      <td>0.947534</td>\n",
       "      <td>9232.334837</td>\n",
       "    </tr>\n",
       "    <tr>\n",
       "      <th>2</th>\n",
       "      <td>Mean_Imputation_outlier</td>\n",
       "      <td>0.918296</td>\n",
       "      <td>0.912967</td>\n",
       "      <td>11148.345424</td>\n",
       "    </tr>\n",
       "    <tr>\n",
       "      <th>3</th>\n",
       "      <td>Removed_outlier</td>\n",
       "      <td>0.961316</td>\n",
       "      <td>0.958737</td>\n",
       "      <td>7753.807752</td>\n",
       "    </tr>\n",
       "    <tr>\n",
       "      <th>4</th>\n",
       "      <td>Using All Features Model</td>\n",
       "      <td>0.965020</td>\n",
       "      <td>0.958737</td>\n",
       "      <td>8385.783571</td>\n",
       "    </tr>\n",
       "    <tr>\n",
       "      <th>5</th>\n",
       "      <td>Using RnD and Marketing Feature Model</td>\n",
       "      <td>0.964354</td>\n",
       "      <td>0.536927</td>\n",
       "      <td>8059.317765</td>\n",
       "    </tr>\n",
       "    <tr>\n",
       "      <th>6</th>\n",
       "      <td>Using only R&amp;D Feauture Model</td>\n",
       "      <td>0.957733</td>\n",
       "      <td>0.956432</td>\n",
       "      <td>7152.417058</td>\n",
       "    </tr>\n",
       "  </tbody>\n",
       "</table>\n",
       "</div>"
      ],
      "text/plain": [
       "                        Different_Models  R_squared  R_squared_adjusted  \\\n",
       "0                               Raw_data   0.961316            0.958737   \n",
       "1              Median_Imputation_Outlier   0.950746            0.947534   \n",
       "2                Mean_Imputation_outlier   0.918296            0.912967   \n",
       "3                        Removed_outlier   0.961316            0.958737   \n",
       "4               Using All Features Model   0.965020            0.958737   \n",
       "5  Using RnD and Marketing Feature Model   0.964354            0.536927   \n",
       "6          Using only R&D Feauture Model   0.957733            0.956432   \n",
       "\n",
       "           RMSE  \n",
       "0      0.205237  \n",
       "1   9232.334837  \n",
       "2  11148.345424  \n",
       "3   7753.807752  \n",
       "4   8385.783571  \n",
       "5   8059.317765  \n",
       "6   7152.417058  "
      ]
     },
     "execution_count": 167,
     "metadata": {},
     "output_type": "execute_result"
    }
   ],
   "source": [
    "models={'Different_Models':['Raw_data','Median_Imputation_Outlier','Mean_Imputation_outlier','Removed_outlier','Using All Features Model','Using RnD and Marketing Feature Model','Using only R&D Feauture Model'],\n",
    "        'R_squared':[model.rsquared,model_after_median_imputation.rsquared,model_after_mean_imputation.rsquared,model_after_removing_outlier.rsquared,r2_score_all_feature_train,r2_score_rnd_and_marketing_train,r2_score_rnd_train],\n",
    "        'R_squared_adjusted':[model.rsquared_adj,model_after_median_imputation.rsquared_adj,model_after_mean_imputation.rsquared_adj,model_after_removing_outlier.rsquared_adj,model.rsquared_adj,model_marketing.rsquared_adj,model_only_RnD.rsquared_adj],\n",
    "       'RMSE':[np.sqrt(model.mse_resid),np.sqrt(model_after_median_imputation.mse_resid),np.sqrt(model_after_mean_imputation.mse_resid),np.sqrt(model_after_removing_outlier.mse_resid),rmse_linear_using_all_features,rmse_linear_using_RnD_and_marketing,rmse_linear_using_only_RnD]}\n",
    "model_table=pd.DataFrame(models)\n",
    "model_table"
   ]
  },
  {
   "cell_type": "code",
   "execution_count": 168,
   "id": "ef85fa2c",
   "metadata": {},
   "outputs": [
    {
     "data": {
      "image/png": "[encoded data removed]",
      "text/plain": [
       "<Figure size 1296x432 with 1 Axes>"
      ]
     },
     "metadata": {
      "needs_background": "light"
     },
     "output_type": "display_data"
    }
   ],
   "source": [
    "model_table.sort_values(by=['RMSE'], ascending=False, inplace=True)\n",
    "\n",
    "f, axe = plt.subplots(1,1, figsize=(18,6))\n",
    "sns.barplot(x='Different_Models', y='RMSE', data=model_table, ax = axe)\n",
    "axe.set_xlabel('Different_Models', size=16)\n",
    "axe.set_ylabel('RMSE', size=16)\n",
    "\n",
    "plt.show()"
   ]
  },
  {
   "cell_type": "code",
   "execution_count": null,
   "id": "76ee6980",
   "metadata": {},
   "outputs": [],
   "source": []
  }
 ],
 "metadata": {
  "kernelspec": {
   "display_name": "Python 3",
   "language": "python",
   "name": "python3"
  },
  "language_info": {
   "codemirror_mode": {
    "name": "ipython",
    "version": 3
   },
   "file_extension": ".py",
   "mimetype": "text/x-python",
   "name": "python",
   "nbconvert_exporter": "python",
   "pygments_lexer": "ipython3",
   "version": "3.8.8"
  }
 },
 "nbformat": 4,
 "nbformat_minor": 5
}
